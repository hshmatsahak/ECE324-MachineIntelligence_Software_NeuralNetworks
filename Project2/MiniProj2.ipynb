{
 "cells": [
  {
   "cell_type": "markdown",
   "metadata": {
    "id": "sDZKw21y3GkA"
   },
   "source": [
    "# Mini-Project 2\n",
    "## Part 1: Directly learning vector embeddings for users and movies"
   ]
  },
  {
   "cell_type": "markdown",
   "metadata": {
    "id": "BoS12Myq3Zpx"
   },
   "source": [
    "### Import libraries\n",
    "- pandas for constructing train and test dataframes\n",
    "- numpy for mathematical operations on arrays\n",
    "- must use pytorch (torch) when developing code for this project\n",
    "- torch.nn for defining our model\n",
    "- train_test_split from sklearn.model_selection to *construct* train and test dataframes"
   ]
  },
  {
   "cell_type": "code",
   "execution_count": null,
   "metadata": {
    "id": "MnBsjb4UmGdA"
   },
   "outputs": [],
   "source": [
    "import pandas as pd\n",
    "import numpy as np\n",
    "import torch\n",
    "import torch.nn as nn\n",
    "from sklearn.model_selection import train_test_split"
   ]
  },
  {
   "cell_type": "markdown",
   "metadata": {
    "id": "Z_g8UDBw6K-y"
   },
   "source": [
    "### Construct train and test dataframes\n",
    "Split data so that 70% is used for train and 30% for test.\n",
    "\n",
    "Sort values by time, in ascending order. According to the assignment document:\n",
    "\n",
    "**A common thing to do is to use the older data as the training set and the newer data as the test/validation sets. That way, you get a good estimate for whether your algorithm would be accurate on new data.**"
   ]
  },
  {
   "cell_type": "code",
   "execution_count": null,
   "metadata": {
    "id": "hWF958RSmGdD"
   },
   "outputs": [],
   "source": [
    "ratings = pd.read_csv(\"http://www.cs.toronto.edu/~guerzhoy/324/movielens/ratings.csv\")\n",
    "ratings.sort_values(by=['timestamp'], ascending=True)\n",
    "train_df, test_df = train_test_split(ratings, test_size=0.3)"
   ]
  },
  {
   "cell_type": "markdown",
   "metadata": {
    "id": "xZXT-iQK8K97"
   },
   "source": [
    "### Map each movie id to an index.\n",
    "\n",
    "There are many movies, but they are not represented as integers from 0 to (number of movies - 1). So, we store a one-to-one mapping from movie id to idx and idx to movie id. To do this, we extract an array of unique movie ids and map each movie id to its index in the array."
   ]
  },
  {
   "cell_type": "code",
   "execution_count": null,
   "metadata": {
    "id": "dqsZ-L_fmGdF"
   },
   "outputs": [],
   "source": [
    "movieids = ratings.movieId.unique()\n",
    "movieid_to_idx = dict()\n",
    "idx_to_movieid = dict() \n",
    "for i in range(len(movieids)):\n",
    "    movieid_to_idx[movieids[i]] = i\n",
    "    idx_to_movieid[i] = movieids[i]"
   ]
  },
  {
   "cell_type": "markdown",
   "metadata": {
    "id": "M0d0mdfm9sgg"
   },
   "source": [
    "### Set n and d\n",
    "n is computed, it is the total number of items to embed. Since we want embeddings for users and movies, the equation to compute n is n = n_users + n_movies\n",
    "\n",
    "d is the dimension of the embeddings. We set it to 10."
   ]
  },
  {
   "cell_type": "code",
   "execution_count": null,
   "metadata": {
    "id": "gsV4LJdmmGdH"
   },
   "outputs": [],
   "source": [
    "n_users, n_movies = ratings.nunique()['userId'], ratings.nunique()['movieId']\n",
    "\n",
    "n = n_users + n_movies\n",
    "\n",
    "d = 10\n",
    "\n",
    "device = 'cuda'"
   ]
  },
  {
   "cell_type": "markdown",
   "metadata": {
    "id": "7QZ_A1ve-dKE"
   },
   "source": [
    "### Define function for obtaining corresponding movie index from id\n",
    "This will be used in the next cell, to map a list of ids to indices"
   ]
  },
  {
   "cell_type": "code",
   "execution_count": null,
   "metadata": {
    "id": "LSURt85hmGdH"
   },
   "outputs": [],
   "source": [
    "def getmovieidx(movieid):\n",
    "    return movieid_to_idx[movieid]"
   ]
  },
  {
   "cell_type": "markdown",
   "metadata": {
    "id": "LrVisB3S_JwO"
   },
   "source": [
    "### Create adjacency matrix for train and test sets\n",
    "To do this, first initialize train and test matrices with dimensions (num users, num movies). \n",
    "\n",
    "Each row corresponds to a user, and \"1\" entries in a row correspond to movies that a user has given 5 stars to. "
   ]
  },
  {
   "cell_type": "code",
   "execution_count": null,
   "metadata": {
    "colab": {
     "base_uri": "https://localhost:8080/"
    },
    "id": "Z_aURjg_mGdI",
    "outputId": "d1fc67e8-f956-4416-fd14-302f7bac2090"
   },
   "outputs": [
    {
     "name": "stderr",
     "output_type": "stream",
     "text": [
      "/usr/local/lib/python3.7/dist-packages/ipykernel_launcher.py:9: UserWarning: Boolean Series key will be reindexed to match DataFrame index.\n",
      "  if __name__ == '__main__':\n",
      "/usr/local/lib/python3.7/dist-packages/ipykernel_launcher.py:14: UserWarning: Boolean Series key will be reindexed to match DataFrame index.\n",
      "  \n"
     ]
    }
   ],
   "source": [
    "shape = (n_users, n_movies)\n",
    "\n",
    "adjacency_matrix_train = torch.zeros(shape).to(device)\n",
    "adjacency_matrix_test = torch.zeros(shape).to(device)\n",
    "\n",
    "unique_users = ratings.userId.unique()\n",
    "\n",
    "for user_id in unique_users:\n",
    "    users_5star_movies_train = train_df[train_df['userId']==user_id][train_df['rating']==5.0].movieId.unique()\n",
    "    x = map(getmovieidx, users_5star_movies_train)\n",
    "    users_5star_movies_train = [item for item in x]\n",
    "    adjacency_matrix_train[user_id-1][users_5star_movies_train] = 1\n",
    "\n",
    "    users_5star_movies_test = test_df[test_df['userId']==user_id][test_df['rating']==5.0].movieId.unique()\n",
    "    y = map(getmovieidx, users_5star_movies_test)\n",
    "    users_5star_movies_test = [item for item in y]\n",
    "    adjacency_matrix_test[user_id-1][users_5star_movies_test] = 1"
   ]
  },
  {
   "cell_type": "markdown",
   "metadata": {
    "id": "zOxk0EZNE98D"
   },
   "source": [
    "### Define train loop function, which takes model and optimizer, and updates matrix of embeddings to improve the objective function defined in the assignment handout.\n",
    "\n",
    "Note that optimizing the objective function is same as minimizing the negative of the objective function. So, we define the loss as negative of the objective function.\n",
    "\n",
    "To calculate the loss, we iterate over users. For each user we find the product between its embedding and embedding of all the movies he/she rated 5 stars, as well as vector-matrix product between user embedding and embeddings not rated 5 stars. We then add the \"good movie\" dot products and subtract the \"bad movie\" dot products, over all users, while upweighting the \"good movies\" by 200, to emphasize that this is the relationship we want to learn."
   ]
  },
  {
   "cell_type": "code",
   "execution_count": null,
   "metadata": {
    "id": "77A_rRfHmGdM"
   },
   "outputs": [],
   "source": [
    "def train_loop(model, optimizer):\n",
    "    loss = 0\n",
    "    for user_idx in range(n_users):\n",
    "        loss = 0\n",
    "        user_emb = model(torch.tensor(user_idx).to(device)).to(device)\n",
    "        \n",
    "        users_5star_movieindices = torch.where(adjacency_matrix_train[user_idx]==1)[0].to(device)\n",
    "      \n",
    "        good_rows = users_5star_movieindices + n_users\n",
    "        good_embeddings = model(good_rows).to(device)\n",
    "        \n",
    "        bad_movieindices = torch.where(adjacency_matrix_train[user_idx]==0)[0]\n",
    "        bad_rows = bad_movieindices + n_users\n",
    "        bad_embeddings = model(bad_rows).to(device)\n",
    "        \n",
    "        good_dps = torch.matmul(user_emb, good_embeddings.T).to(device)\n",
    "        bad_dps = torch.matmul(user_emb, bad_embeddings.T).to(device)\n",
    "        \n",
    "        good_sigmoids = torch.sigmoid(good_dps).to(device)\n",
    "        bad_sigmoids = torch.sigmoid(-1*bad_dps).to(device)\n",
    "        \n",
    "        good_logsigs = torch.log10(good_sigmoids).to(device)\n",
    "        bad_logsigs = torch.log10(bad_sigmoids).to(device)\n",
    "        loss += (200*torch.sum(good_logsigs) + torch.sum(bad_logsigs))\n",
    "        loss*=-1\n",
    "        optimizer.zero_grad()\n",
    "        loss.backward()\n",
    "        optimizer.step()\n",
    "    print(loss)"
   ]
  },
  {
   "cell_type": "markdown",
   "metadata": {
    "id": "4ngC82J0MMK3"
   },
   "source": [
    "### Recall150 computation"
   ]
  },
  {
   "cell_type": "code",
   "execution_count": null,
   "metadata": {
    "id": "U_T_7kYIGGNV"
   },
   "outputs": [],
   "source": [
    "def recall150 (adj_mat, model): # pass in true adj_mat, will compare with predicted here\n",
    "    with torch.no_grad():\n",
    "        user_mat = model.embedding.weight[:n_users, :]\n",
    "        movie_mat = model.embedding.weight[n_users:, :]\n",
    "        scores = torch.matmul(user_mat, movie_mat.T).to(device)\n",
    "\n",
    "        for i in range(scores.shape[0]):\n",
    "          split_val = torch.quantile(scores[i], 1-(150/n_movies))\n",
    "          mask0 = torch.where(scores[i] < split_val)[0]\n",
    "          mask1 = torch.where(scores[i] >= split_val)[0]\n",
    "          scores[i][mask0] = 0\n",
    "          scores[i][mask1] = 1 \n",
    "          \n",
    "        #compare\n",
    "        avg = 0\n",
    "        valid = 0\n",
    "        for i in range(scores.shape[0]):\n",
    "          a1 = torch.where(adj_mat[i] == 1)[0]\n",
    "          a2 = torch.where(scores[i] == 1)[0]\n",
    "          \n",
    "          a1=a1.cpu().detach().numpy()\n",
    "          a2=a2.cpu().detach().numpy()\n",
    "\n",
    "          x = len(np.intersect1d(a1, a2))\n",
    "          y = len(torch.where(adj_mat[i] == 1)[0])       \n",
    "\n",
    "          if y != 0:                           \n",
    "            avg += x/y\n",
    "            valid += 1\n",
    "        avg = avg/valid\n",
    "        return avg"
   ]
  },
  {
   "cell_type": "markdown",
   "metadata": {
    "id": "fCPaQgfwNZRO"
   },
   "source": [
    "### Define neural network.\n",
    "We want to optimize the parameters of our neural network. Our network for this project is just one embedding layer. The parameters of the embedding layer comprises of the embeddings for each user and movie (corresponding to rows). Initialize weights to be uniform from -1 to 1, which empirically gave better results."
   ]
  },
  {
   "cell_type": "code",
   "execution_count": null,
   "metadata": {
    "colab": {
     "base_uri": "https://localhost:8080/"
    },
    "id": "fc3Jpg-pZfE9",
    "outputId": "a74d63b5-f672-4202-f129-8cb33b842e1f"
   },
   "outputs": [
    {
     "name": "stdout",
     "output_type": "stream",
     "text": [
      "Model structure: EmbeddingLayer(\n",
      "  (embedding): Embedding(10334, 10)\n",
      ")\n",
      "\n",
      "Layer: embedding.weight | Size: torch.Size([10334, 10]) | Values : tensor([[-0.8885, -0.3680,  0.0241, -0.2537,  0.6816, -0.2937, -0.6296, -0.1478,\n",
      "         -0.0261,  0.9802],\n",
      "        [ 0.4553, -0.5951,  0.9131,  0.3119, -0.6157,  0.1831, -0.3336,  0.2888,\n",
      "         -0.2130,  0.4221]], device='cuda:0', grad_fn=<SliceBackward0>) \n",
      "\n"
     ]
    }
   ],
   "source": [
    "class EmbeddingLayer(nn.Module):\n",
    "    def __init__(self):\n",
    "        super(EmbeddingLayer, self).__init__()\n",
    "        self.embedding = nn.Embedding(n, d)\n",
    "        self.embedding.weight.data.uniform_(-1, 1)\n",
    "\n",
    "    def forward(self, x):\n",
    "        x = self.embedding(x)\n",
    "        return x\n",
    "\n",
    "model = EmbeddingLayer().to(device)\n",
    "print(f\"Model structure: {model}\\n\")\n",
    "\n",
    "for name, param in model.named_parameters():\n",
    "    print(f\"Layer: {name} | Size: {param.size()} | Values : {param[:2]} \\n\")"
   ]
  },
  {
   "cell_type": "markdown",
   "metadata": {
    "id": "I4snQNe7OvPu"
   },
   "source": [
    "### Execute training\n",
    "Train for 20 epochs, with a standard learning rate of 0.01. Empirically, Adam optimizer exhibits better convergence behaviour than stochastic gradient descent, so it is our choice of optimizer. \n",
    "\n",
    "We print the recall scores for both training and test sets after each epoch"
   ]
  },
  {
   "cell_type": "code",
   "execution_count": null,
   "metadata": {
    "colab": {
     "base_uri": "https://localhost:8080/"
    },
    "id": "xurpzEwtmGdN",
    "outputId": "521b872e-42b2-4f9c-db30-d24bbc2b3a60"
   },
   "outputs": [
    {
     "name": "stdout",
     "output_type": "stream",
     "text": [
      "Epoch 1\n",
      "-------------------------------\n",
      "tensor(10906.3740, device='cuda:0', grad_fn=<MulBackward0>)\n",
      "Train Recall150:\n",
      "0.17723131909443607\n",
      "Validation Recall150:\n",
      "0.08219185574691062\n",
      "Epoch 2\n",
      "-------------------------------\n",
      "tensor(9430.2930, device='cuda:0', grad_fn=<MulBackward0>)\n",
      "Train Recall150:\n",
      "0.3219781891770597\n",
      "Validation Recall150:\n",
      "0.11678377694650956\n",
      "Epoch 3\n",
      "-------------------------------\n",
      "tensor(7173.6709, device='cuda:0', grad_fn=<MulBackward0>)\n",
      "Train Recall150:\n",
      "0.5169751815207138\n",
      "Validation Recall150:\n",
      "0.2966030063446902\n",
      "Epoch 4\n",
      "-------------------------------\n",
      "tensor(4582.0391, device='cuda:0', grad_fn=<MulBackward0>)\n",
      "Train Recall150:\n",
      "0.6556202008382463\n",
      "Validation Recall150:\n",
      "0.36794174050806017\n",
      "Epoch 5\n",
      "-------------------------------\n",
      "tensor(3606.9429, device='cuda:0', grad_fn=<MulBackward0>)\n",
      "Train Recall150:\n",
      "0.7221589681762232\n",
      "Validation Recall150:\n",
      "0.39028151389519405\n",
      "Epoch 6\n",
      "-------------------------------\n",
      "tensor(2145.4612, device='cuda:0', grad_fn=<MulBackward0>)\n",
      "Train Recall150:\n",
      "0.7890330988847777\n",
      "Validation Recall150:\n",
      "0.38465562419322347\n",
      "Epoch 7\n",
      "-------------------------------\n",
      "tensor(1649.3630, device='cuda:0', grad_fn=<MulBackward0>)\n",
      "Train Recall150:\n",
      "0.8350405210617253\n",
      "Validation Recall150:\n",
      "0.38786797779023324\n",
      "Epoch 8\n",
      "-------------------------------\n",
      "tensor(1448.8826, device='cuda:0', grad_fn=<MulBackward0>)\n",
      "Train Recall150:\n",
      "0.8649338407606969\n",
      "Validation Recall150:\n",
      "0.3841185697006606\n",
      "Epoch 9\n",
      "-------------------------------\n",
      "tensor(1359.9771, device='cuda:0', grad_fn=<MulBackward0>)\n",
      "Train Recall150:\n",
      "0.8800959258580491\n",
      "Validation Recall150:\n",
      "0.38621482292404347\n",
      "Epoch 10\n",
      "-------------------------------\n",
      "tensor(1302.7317, device='cuda:0', grad_fn=<MulBackward0>)\n",
      "Train Recall150:\n",
      "0.8933458775171518\n",
      "Validation Recall150:\n",
      "0.39007163691134633\n",
      "Epoch 11\n",
      "-------------------------------\n",
      "tensor(1340.4653, device='cuda:0', grad_fn=<MulBackward0>)\n",
      "Train Recall150:\n",
      "0.8987599793523674\n",
      "Validation Recall150:\n",
      "0.3846203731811184\n",
      "Epoch 12\n",
      "-------------------------------\n",
      "tensor(1484.6246, device='cuda:0', grad_fn=<MulBackward0>)\n",
      "Train Recall150:\n",
      "0.9129531679931018\n",
      "Validation Recall150:\n",
      "0.39644623594558315\n",
      "Epoch 13\n",
      "-------------------------------\n",
      "tensor(1428.3037, device='cuda:0', grad_fn=<MulBackward0>)\n",
      "Train Recall150:\n",
      "0.9153670513247228\n",
      "Validation Recall150:\n",
      "0.3793122167365026\n",
      "Epoch 14\n",
      "-------------------------------\n",
      "tensor(1449.3843, device='cuda:0', grad_fn=<MulBackward0>)\n",
      "Train Recall150:\n",
      "0.9256828540559918\n",
      "Validation Recall150:\n",
      "0.3917540962783404\n",
      "Epoch 15\n",
      "-------------------------------\n",
      "tensor(1156.7458, device='cuda:0', grad_fn=<MulBackward0>)\n",
      "Train Recall150:\n",
      "0.9265295992525067\n",
      "Validation Recall150:\n",
      "0.38825132029125925\n",
      "Epoch 16\n",
      "-------------------------------\n",
      "tensor(1141.1589, device='cuda:0', grad_fn=<MulBackward0>)\n",
      "Train Recall150:\n",
      "0.93579793865949\n",
      "Validation Recall150:\n",
      "0.39410208228055166\n",
      "Epoch 17\n",
      "-------------------------------\n",
      "tensor(1091.0312, device='cuda:0', grad_fn=<MulBackward0>)\n",
      "Train Recall150:\n",
      "0.9359140400842983\n",
      "Validation Recall150:\n",
      "0.386380510857623\n",
      "Epoch 18\n",
      "-------------------------------\n",
      "tensor(1319.0558, device='cuda:0', grad_fn=<MulBackward0>)\n",
      "Train Recall150:\n",
      "0.9403600728488953\n",
      "Validation Recall150:\n",
      "0.40066533321406445\n",
      "Epoch 19\n",
      "-------------------------------\n",
      "tensor(1432.1525, device='cuda:0', grad_fn=<MulBackward0>)\n",
      "Train Recall150:\n",
      "0.9411336304436405\n",
      "Validation Recall150:\n",
      "0.3852496215102998\n",
      "Epoch 20\n",
      "-------------------------------\n",
      "tensor(1060.7456, device='cuda:0', grad_fn=<MulBackward0>)\n",
      "Train Recall150:\n",
      "0.9443023162388012\n",
      "Validation Recall150:\n",
      "0.39892624854606684\n",
      "Done!\n"
     ]
    }
   ],
   "source": [
    "learning_rate = 1e-2\n",
    "optimizer = torch.optim.Adam(model.parameters(), lr=learning_rate)\n",
    "\n",
    "epochs = 20\n",
    "for t in range(epochs):\n",
    "    print(f\"Epoch {t+1}\\n-------------------------------\")\n",
    "    train_loop(model, optimizer)\n",
    "    print(f\"Train Recall150:\\n{recall150(adjacency_matrix_train, model)}\")\n",
    "    print(f\"Validation Recall150:\\n{recall150(adjacency_matrix_test, model)}\")\n",
    "print(\"Done!\")"
   ]
  },
  {
   "cell_type": "markdown",
   "metadata": {
    "id": "T970cGtHPbGJ"
   },
   "source": [
    "### Compute recall150 score on test set\n",
    "The recall150 score on test set is approximately 40%. Since there are no hyperparameter tuning here, our test set is also used as a validation set in the above training."
   ]
  },
  {
   "cell_type": "code",
   "execution_count": null,
   "metadata": {
    "colab": {
     "base_uri": "https://localhost:8080/"
    },
    "id": "fC3QgPm8mGdO",
    "outputId": "b0ea4de3-d14f-4532-87dc-e18b563b65db"
   },
   "outputs": [
    {
     "name": "stdout",
     "output_type": "stream",
     "text": [
      "Test Set Recall\n",
      "0.39892624854606684\n"
     ]
    }
   ],
   "source": [
    "print(f\"Test Set Recall\\n{recall150(adjacency_matrix_test, model)}\")"
   ]
  },
  {
   "cell_type": "markdown",
   "metadata": {
    "id": "njGrQCThRLln"
   },
   "source": [
    "# Mini Project 2\n",
    "## Part 2\n",
    "The requirements for this part of the Mini Project are pasted below:\n",
    "\n",
    "**Learning embeddings using Node2Vec\\\n",
    "Implement a learning procedure for Node2Vec embeddings.**\n",
    "\n",
    "**Report Recall@150 for the training and test sets, for the task of predicting which movies a given user will give 5 stars to.**\n",
    "\n",
    "**Report what you had done in order to improve the performance of Node2Vec over the initial parameters that you had tried. You only need to demonstrate progress in improving Node2Vec, and do not need to beat the performance of embeddings learned directly.\"**"
   ]
  },
  {
   "cell_type": "markdown",
   "metadata": {
    "id": "bYC9VZcLTutJ"
   },
   "source": [
    "### Import Libraries\n",
    "- pandas for extracting dataframes: train, val, test\n",
    "- numpy for mathematical operations on arrays.\n",
    "- must use PyTorch when developing the code for this mini-project\n",
    "- import torch.nn to easily implement neural networks.\n",
    "- train_test_split form sklearn.model_selection to split dataset into train, val and test sets.\n"
   ]
  },
  {
   "cell_type": "code",
   "execution_count": 11,
   "metadata": {
    "id": "CaEe1EVpvnx2"
   },
   "outputs": [],
   "source": [
    "import pandas as pd\n",
    "import numpy as np\n",
    "import torch\n",
    "import torch.nn as nn\n",
    "from sklearn.model_selection import train_test_split"
   ]
  },
  {
   "cell_type": "markdown",
   "metadata": {
    "id": "1qQ5TnVoWGa4"
   },
   "source": [
    "### Construct train, validation and test dataframes\n",
    "Split data so that 70% is used for train, 20% for validation and 10% for test set.\n",
    "\n",
    "Sort values by time, in ascending order. According to the assignment document:\n",
    "\n",
    "**A common thing to do is to use the older data as the training set and the newer data as the test/validation sets. That way, you get a good estimate for whether your algorithm would be accurate on new data.**"
   ]
  },
  {
   "cell_type": "code",
   "execution_count": 12,
   "metadata": {
    "id": "DVqc3W3nvtLU"
   },
   "outputs": [],
   "source": [
    "ratings = pd.read_csv(\"http://www.cs.toronto.edu/~guerzhoy/324/movielens/ratings.csv\")\n",
    "ratings.tail()\n",
    "ratings.sort_values(by=['timestamp'], ascending=True)\n",
    "train_df, test_val_df = train_test_split(ratings, test_size=0.7)\n",
    "val_df, test_df = train_test_split(test_val_df, test_size=0.333)"
   ]
  },
  {
   "cell_type": "markdown",
   "metadata": {
    "id": "fIMTjQ6OWmBA"
   },
   "source": [
    "### Map each movie id to an index.\n",
    "\n",
    "There are many movies, but they are not represented as integers from 0 to (number of movies - 1). So, we store a one-to-one mapping from movie id to idx and idx to movie id. To do this, we extract an array of unique movie ids and map each movie id to its index in the array."
   ]
  },
  {
   "cell_type": "code",
   "execution_count": 13,
   "metadata": {
    "id": "YbywXvXovxXp"
   },
   "outputs": [],
   "source": [
    "movieids = ratings.movieId.unique()\n",
    "movieid_to_idx = dict()\n",
    "idx_to_movieid = dict()\n",
    "for i in range(len(movieids)):\n",
    "    movieid_to_idx[movieids[i]] = i\n",
    "    idx_to_movieid[i] = movieids[i]"
   ]
  },
  {
   "cell_type": "markdown",
   "metadata": {
    "id": "JbO6rGUuWxfV"
   },
   "source": [
    "### Set n and d\n",
    "n is computed, it is the total number of items to embed. Since we want embeddings for users and movies, the equation to compute n is n = n_users + n_movies\n",
    "\n",
    "d is the dimension of the embeddings. We set it to 10."
   ]
  },
  {
   "cell_type": "code",
   "execution_count": 14,
   "metadata": {
    "id": "mHaRSn96xggq"
   },
   "outputs": [],
   "source": [
    "n_users, n_movies = ratings.nunique()['userId'], ratings.nunique()['movieId']\n",
    "\n",
    "n = n_users + n_movies\n",
    "\n",
    "d = 10\n",
    "\n",
    "device = 'cuda'"
   ]
  },
  {
   "cell_type": "markdown",
   "metadata": {
    "id": "fVJ9L6N5XAeN"
   },
   "source": [
    "### Define function for obtaining corresponding movie index from id\n",
    "This will be used in the next cell, to map a list of ids to indices"
   ]
  },
  {
   "cell_type": "code",
   "execution_count": 15,
   "metadata": {
    "id": "T_vFVxgXxkXp"
   },
   "outputs": [],
   "source": [
    "def getmovieidx(movieid):\n",
    "    return movieid_to_idx[movieid]"
   ]
  },
  {
   "cell_type": "markdown",
   "metadata": {
    "id": "tbjpCtR1XGeO"
   },
   "source": [
    "### Create adjacency matrix for train, validation and test sets\n",
    "To do this, first initialize train, validation and test matrices with dimensions (num users, num movies). \n",
    "\n",
    "Each row corresponds to a user, and \"1\" entries in a row correspond to movies that a user has given 5 stars to. "
   ]
  },
  {
   "cell_type": "code",
   "execution_count": 16,
   "metadata": {
    "colab": {
     "base_uri": "https://localhost:8080/"
    },
    "id": "INfCbRGQxoZc",
    "outputId": "8e9a1083-4afb-4c6a-aae5-a863f3355360"
   },
   "outputs": [
    {
     "name": "stderr",
     "output_type": "stream",
     "text": [
      "/usr/local/lib/python3.7/dist-packages/ipykernel_launcher.py:10: UserWarning: Boolean Series key will be reindexed to match DataFrame index.\n",
      "  # Remove the CWD from sys.path while we load stuff.\n",
      "/usr/local/lib/python3.7/dist-packages/ipykernel_launcher.py:15: UserWarning: Boolean Series key will be reindexed to match DataFrame index.\n",
      "  from ipykernel import kernelapp as app\n",
      "/usr/local/lib/python3.7/dist-packages/ipykernel_launcher.py:20: UserWarning: Boolean Series key will be reindexed to match DataFrame index.\n"
     ]
    }
   ],
   "source": [
    "shape = (n_users, n_movies)\n",
    "\n",
    "adjacency_matrix_train = torch.zeros(shape).to(device)\n",
    "adjacency_matrix_val = torch.zeros(shape).to(device)\n",
    "adjacency_matrix_test = torch.zeros(shape).to(device)\n",
    "\n",
    "unique_users = ratings.userId.unique()\n",
    "\n",
    "for user_id in unique_users:\n",
    "    users_5star_movies_train = train_df[train_df['userId']==user_id][train_df['rating']==5.0].movieId.unique()\n",
    "    x = map(getmovieidx, users_5star_movies_train)\n",
    "    users_5star_movies_train = [item for item in x]\n",
    "    adjacency_matrix_train[user_id-1][users_5star_movies_train] = 1\n",
    "\n",
    "    users_5star_movies_val = val_df[val_df['userId']==user_id][val_df['rating']==5.0].movieId.unique()\n",
    "    x = map(getmovieidx, users_5star_movies_val)\n",
    "    users_5star_movies_val = [item for item in x]\n",
    "    adjacency_matrix_val[user_id-1][users_5star_movies_val] = 1\n",
    "\n",
    "    users_5star_movies_test = test_df[test_df['userId']==user_id][test_df['rating']==5.0].movieId.unique()\n",
    "    x = map(getmovieidx, users_5star_movies_test)\n",
    "    users_5star_movies_test = [item for item in x]\n",
    "    adjacency_matrix_test[user_id-1][users_5star_movies_test] = 1"
   ]
  },
  {
   "cell_type": "markdown",
   "metadata": {
    "id": "92zfYkUaXcfx"
   },
   "source": [
    "### Recall150 computation"
   ]
  },
  {
   "cell_type": "code",
   "execution_count": 17,
   "metadata": {
    "id": "yIKMmIGiySo0"
   },
   "outputs": [],
   "source": [
    "def recall150 (adj_mat, model): # pass in true adj_mat, will compare with predicted here\n",
    "    with torch.no_grad():\n",
    "        user_mat = model.embedding.weight[:n_users, :]\n",
    "        movie_mat = model.embedding.weight[n_users:, :]\n",
    "        scores = torch.matmul(user_mat, movie_mat.T).to(device)\n",
    "\n",
    "        for i in range(scores.shape[0]):\n",
    "          split_val = torch.quantile(scores[i], 1-(150/n_movies))\n",
    "          mask0 = torch.where(scores[i] < split_val)[0]\n",
    "          mask1 = torch.where(scores[i] >= split_val)[0]\n",
    "          scores[i][mask0] = 0\n",
    "          scores[i][mask1] = 1 \n",
    "          \n",
    "        #compare\n",
    "        avg = 0\n",
    "        valid = 0\n",
    "        for i in range(scores.shape[0]):\n",
    "          a1 = torch.where(adj_mat[i] == 1)[0]\n",
    "          a2 = torch.where(scores[i] == 1)[0]\n",
    "          # print(a1)\n",
    "          # print(a2)\n",
    "          a1=a1.cpu().detach().numpy()\n",
    "          a2=a2.cpu().detach().numpy()\n",
    "          x = len(np.intersect1d(a1, a2))\n",
    "          y = len(torch.where(adj_mat[i] == 1)[0])       \n",
    "          # print(f\"x: {x}\")\n",
    "          # print(f\"y: {y}\")\n",
    "          if y != 0:                           \n",
    "            avg += x/y\n",
    "            valid += 1\n",
    "        avg = avg/valid\n",
    "        return avg"
   ]
  },
  {
   "cell_type": "markdown",
   "metadata": {
    "id": "Q1G3QwEIYIUa"
   },
   "source": [
    "### Compute and store degrees of each node. \n",
    "This will be used in negative sampling, when sampling K random nodes that are not part of random walk."
   ]
  },
  {
   "cell_type": "code",
   "execution_count": 18,
   "metadata": {
    "id": "5LdxvJEGRomO"
   },
   "outputs": [],
   "source": [
    "# Compute degree probabilities\n",
    "# we must use train set\n",
    "user_to_movie = adjacency_matrix_train.clone()\n",
    "movie_to_user = adjacency_matrix_train.T\n",
    "degrees = []\n",
    "for user_idx in range(user_to_movie.shape[0]):\n",
    "  degrees.append(len(torch.where(user_to_movie[user_idx] == 1)[0]))\n",
    "for movie_idx in range(movie_to_user.shape[0]):\n",
    "  degrees.append(len(torch.where(movie_to_user[movie_idx]==1)[0]))"
   ]
  },
  {
   "cell_type": "code",
   "execution_count": 19,
   "metadata": {
    "id": "FxUrAtJ5Tjdj"
   },
   "outputs": [],
   "source": [
    "# x = torch.zeros(5,5)\n",
    "# x[0][torch.tensor([2,3]) + 1] = 1\n",
    "# x"
   ]
  },
  {
   "cell_type": "markdown",
   "metadata": {
    "id": "P9Yr21uHY4Mt"
   },
   "source": [
    "### Construct num_nodes * num_nodes adjacency matrix.\n",
    "We do not want to distinguish between users and movies. So, treat each as node. Then there is n = num_users + num_movies nodes, and adjacency matrix is n by n"
   ]
  },
  {
   "cell_type": "code",
   "execution_count": 20,
   "metadata": {
    "id": "vJ1u4R3xR_Np"
   },
   "outputs": [],
   "source": [
    "num_nodes = n_users+n_movies\n",
    "adj_mat = torch.zeros(num_nodes, num_nodes)\n",
    "for user_idx in range(n_users):\n",
    "  adj_mat[user_idx][torch.where(user_to_movie[user_idx] == 1)[0] + n_users] = 1\n",
    "for movie_idx in range(n_movies):\n",
    "  adj_mat[n_users+movie_idx][torch.where(movie_to_user[movie_idx]==1)[0]] = 1"
   ]
  },
  {
   "cell_type": "markdown",
   "metadata": {
    "id": "gLBhtk2dZrM7"
   },
   "source": [
    "### Specify unnormalized transition probability\n",
    "For each node, specify transition probability to neighbours as 1/q and non-neighbours to 0.\n",
    "\n",
    "When we conduct our random walk, when determining transition probabilities, we just use these pre-computed probabilities, plus one extra step of setting probability of previous node to 1/p."
   ]
  },
  {
   "cell_type": "code",
   "execution_count": 21,
   "metadata": {
    "id": "sH_850zLXhjY"
   },
   "outputs": [],
   "source": [
    "def compute_transition_probs(q):\n",
    "  transition_prob = torch.zeros(num_nodes, num_nodes)\n",
    "  for node_idx in range(num_nodes):\n",
    "    # print(node_idx)\n",
    "    transition_prob[node_idx] = torch.tensor([0]*num_nodes, dtype=torch.float64).to(device)\n",
    "    valid_nodes = torch.where(adj_mat[node_idx] == 1)[0]\n",
    "    transition_prob[node_idx][valid_nodes] = 1/q\n",
    "  return transition_prob\n",
    "\n",
    "transition_probs = compute_transition_probs(q=3)"
   ]
  },
  {
   "cell_type": "code",
   "execution_count": null,
   "metadata": {
    "id": "XAigimE5oTJA"
   },
   "outputs": [],
   "source": [
    "# x = torch.tensor([3,4,5])\n",
    "# y = x.clone()\n",
    "# y[1] = 3\n",
    "# print(x)\n",
    "# print(y)"
   ]
  },
  {
   "cell_type": "markdown",
   "metadata": {
    "id": "WTZMLqygbTRn"
   },
   "source": [
    "### Define next_node function which given current node, previous node, transition probabilities and parameter p, selects next node in random walk. \n",
    "This is done by indexing into transition_probs, setting previous node probability to 1/p (if it exists, i.e. current node is not first node in walk) and randomly choosing the next node with the computed probabilities."
   ]
  },
  {
   "cell_type": "code",
   "execution_count": 22,
   "metadata": {
    "id": "R509ZefKoLLq"
   },
   "outputs": [],
   "source": [
    "def next_node(previous, current, p, q):\n",
    "  node_indices = list(range(num_nodes))\n",
    "  node_probs = transition_probs[current].clone()\n",
    "  if previous != -1:\n",
    "    node_probs[previous] = 1/p\n",
    "  chosen_user = random.choices(node_indices, weights=node_probs, k=1)\n",
    "  return chosen_user[0]"
   ]
  },
  {
   "cell_type": "markdown",
   "metadata": {
    "id": "7kaCs6PodBH5"
   },
   "source": [
    "### Define random_walk function, which outputs an array of nodes corresponding to random walk starting from start node and taking num_steps steps."
   ]
  },
  {
   "cell_type": "code",
   "execution_count": 23,
   "metadata": {
    "id": "4BubC3n4ZBqy"
   },
   "outputs": [],
   "source": [
    "import random\n",
    "def random_walk(start_node, num_steps, p, q):\n",
    "  walk = [start_node]\n",
    "  while len(walk) < num_steps:\n",
    "    current = walk[-1]\n",
    "    previous = walk[-2] if len(walk) > 1 else -1\n",
    "    next = next_node(previous, current, p, q)\n",
    "    walk.append(next)\n",
    "  return walk"
   ]
  },
  {
   "cell_type": "code",
   "execution_count": null,
   "metadata": {
    "id": "21X9npCgdtrq"
   },
   "outputs": [],
   "source": [
    "# x = torch.zeros(2, 3, 5)\n",
    "# x[1,1] = torch.tensor([3,4,5,6,7])\n",
    "# x"
   ]
  },
  {
   "cell_type": "markdown",
   "metadata": {
    "id": "rKPtDm0rd0BP"
   },
   "source": [
    "### Simulate random walks \n",
    "We use the function random_walk above to generate a number of random walks (num_walks) starting from every node and taking a number of steps (num_steps)"
   ]
  },
  {
   "cell_type": "code",
   "execution_count": 24,
   "metadata": {
    "id": "Pf-qVX48ZuFF"
   },
   "outputs": [],
   "source": [
    "def simulate_walks(num_walks, num_steps, p, q):\n",
    "  cache = torch.zeros(num_nodes, num_walks, num_steps)\n",
    "  for node_idx in range(num_nodes):\n",
    "    print(node_idx)\n",
    "    for walk_count in range(num_walks):\n",
    "      cache[node_idx, walk_count] = torch.tensor(random_walk(node_idx, num_steps, p, q))\n",
    "  return cache\n",
    "p = 1\n",
    "q = 3\n",
    "num_walks = 20\n",
    "num_steps = 2\n",
    "cache = simulate_walks(num_walks, num_steps, p, q)"
   ]
  },
  {
   "cell_type": "markdown",
   "metadata": {
    "id": "khtrAf-HeoQh"
   },
   "source": [
    "### Define function to construct adjacency matrix given cache of walks\n",
    "This function will add an edge to our graph in row r, column c if there is at least one time where we go from node r to node c when we start our random walk from node r."
   ]
  },
  {
   "cell_type": "code",
   "execution_count": 26,
   "metadata": {
    "id": "3PSKVI5efC8w"
   },
   "outputs": [],
   "source": [
    "def construct_adj_mat(cache, num_walks):\n",
    "  adj_mat = torch.zeros(num_nodes, num_nodes)\n",
    "  for node_idx in range(num_nodes):\n",
    "    # print(node_idx)\n",
    "    for walk in cache[node_idx]:\n",
    "      adj_mat[node_idx][walk.long()] = 1\n",
    "  return adj_mat                      \n",
    "random_walk_adj_mat = construct_adj_mat(cache, 1)"
   ]
  },
  {
   "cell_type": "markdown",
   "metadata": {
    "id": "Nk336J9ifmxG"
   },
   "source": [
    "### Define train loop function.\n",
    "In one iteration of the train cycle, we will iterate over all nodes, and compute dot product between this node's embedding and all nodes it has an edge with. Find the sum of these and subtract dot product between this embedding and K randomly sampled nodes form the negative set. Then compute loss, upweighting positive samples by a parameter upweight and step through optimizer to update weights. "
   ]
  },
  {
   "cell_type": "code",
   "execution_count": 27,
   "metadata": {
    "id": "ViQDgBsdi1WI"
   },
   "outputs": [],
   "source": [
    "def train_loop(model, optimizer, random_walk_adj_mat, K, upweight):\n",
    "    loss = 0\n",
    "    for node_idx in range(num_nodes):\n",
    "        loss = 0\n",
    "        node_emb = model(torch.tensor(node_idx).to(device)).to(device)\n",
    "        \n",
    "        good_nodes = torch.where(random_walk_adj_mat[node_idx]==1)[0].to(device)\n",
    "        good_embeddings = model(good_nodes).to(device)\n",
    "        \n",
    "        bad_nodes = torch.where(random_walk_adj_mat[node_idx]==0)[0]\n",
    "        probs = torch.tensor(degrees)[bad_nodes]\n",
    "        neg_samples = random.choices(bad_nodes.tolist(), weights=probs.tolist(), k=K)\n",
    "        neg_samples = torch.tensor(neg_samples).to(device)\n",
    "        bad_embeddings = model(neg_samples).to(device)\n",
    "        \n",
    "        good_dps = torch.matmul(node_emb, good_embeddings.T).to(device)\n",
    "        bad_dps = torch.matmul(node_emb, bad_embeddings.T).to(device)\n",
    "        \n",
    "        good_sigmoids = torch.sigmoid(good_dps).to(device)\n",
    "        bad_sigmoids = torch.sigmoid(-1*bad_dps).to(device)\n",
    "        \n",
    "        good_logsigs = torch.log10(good_sigmoids).to(device)\n",
    "        bad_logsigs = torch.log10(bad_sigmoids).to(device)\n",
    "        loss += (upweight*torch.sum(good_logsigs) + torch.sum(bad_logsigs))\n",
    "        loss*=-1\n",
    "        optimizer.zero_grad()\n",
    "        loss.backward()\n",
    "        # print(model.embedding.weight.grad)\n",
    "        optimizer.step()\n",
    "    print(loss)"
   ]
  },
  {
   "cell_type": "markdown",
   "metadata": {
    "id": "L95BbmPjgdN8"
   },
   "source": [
    "### Define neural network.\n",
    "We want to optimize the parameters of our neural network. Our network for this project is just one embedding layer. The parameters of the embedding layer comprises of the embeddings for each user and movie (corresponding to rows). Initialize weights to be uniform from -1 to 1, which empirically gave better results."
   ]
  },
  {
   "cell_type": "code",
   "execution_count": 28,
   "metadata": {
    "id": "A7jDsQOvP2TE"
   },
   "outputs": [],
   "source": [
    "class EmbeddingLayer(nn.Module):\n",
    "    def __init__(self):\n",
    "        super(EmbeddingLayer, self).__init__()\n",
    "        self.embedding = nn.Embedding(n, d)\n",
    "        self.embedding.weight.data.uniform_(-1, 1)\n",
    "\n",
    "    def forward(self, x):\n",
    "        x = self.embedding(x)\n",
    "        return x\n",
    "\n",
    "# model = EmbeddingLayer().to(device)\n",
    "# print(f\"Model structure: {model}\\n\")\n",
    "\n",
    "# for name, param in model.named_parameters():\n",
    "#     print(f\"Layer: {name} | Size: {param.size()} | Values : {param[:2]} \\n\")"
   ]
  },
  {
   "cell_type": "markdown",
   "metadata": {
    "id": "zNPaG9TCGdzZ"
   },
   "source": [
    "## Model Type 1\n",
    "p = 1\n",
    "\n",
    "q = 3\n",
    "\n",
    "num_walks = 1\n",
    "\n",
    "num_steps = 5"
   ]
  },
  {
   "cell_type": "markdown",
   "metadata": {
    "id": "-g66LvnRgsuh"
   },
   "source": [
    "Model 1:\n",
    "- learning rate = 1e-3\n",
    "- K = 2\n",
    "- upweight = 200"
   ]
  },
  {
   "cell_type": "code",
   "execution_count": null,
   "metadata": {
    "colab": {
     "base_uri": "https://localhost:8080/"
    },
    "id": "lrLBqCfWt7n0",
    "outputId": "b62185d5-23f2-47fc-b84f-35f742b18711"
   },
   "outputs": [
    {
     "name": "stdout",
     "output_type": "stream",
     "text": [
      "Epoch 1\n",
      "-------------------------------\n",
      "tensor(29.7941, device='cuda:0', grad_fn=<MulBackward0>)\n",
      "Train Recall150:\n",
      "0.015309075846569759\n",
      "Validation Recall150:\n",
      "0.01630882414056124\n",
      "Epoch 2\n",
      "-------------------------------\n",
      "tensor(24.3747, device='cuda:0', grad_fn=<MulBackward0>)\n",
      "Train Recall150:\n",
      "0.018607089416452026\n",
      "Validation Recall150:\n",
      "0.01538764656106078\n",
      "Epoch 3\n",
      "-------------------------------\n",
      "tensor(18.7875, device='cuda:0', grad_fn=<MulBackward0>)\n",
      "Train Recall150:\n",
      "0.028123469333001982\n",
      "Validation Recall150:\n",
      "0.015808284123685245\n",
      "Epoch 4\n",
      "-------------------------------\n",
      "tensor(12.6127, device='cuda:0', grad_fn=<MulBackward0>)\n",
      "Train Recall150:\n",
      "0.04187896112927905\n",
      "Validation Recall150:\n",
      "0.02040976354552965\n",
      "Epoch 5\n",
      "-------------------------------\n",
      "tensor(7.7656, device='cuda:0', grad_fn=<MulBackward0>)\n",
      "Train Recall150:\n",
      "0.06612056889002177\n",
      "Validation Recall150:\n",
      "0.02383818903798698\n",
      "Epoch 6\n",
      "-------------------------------\n",
      "tensor(4.5122, device='cuda:0', grad_fn=<MulBackward0>)\n",
      "Train Recall150:\n",
      "0.08726445785208431\n",
      "Validation Recall150:\n",
      "0.028127990434908053\n",
      "Epoch 7\n",
      "-------------------------------\n",
      "tensor(3.7282, device='cuda:0', grad_fn=<MulBackward0>)\n",
      "Train Recall150:\n",
      "0.11712325302672702\n",
      "Validation Recall150:\n",
      "0.03202599927283235\n",
      "Epoch 8\n",
      "-------------------------------\n",
      "tensor(1.9729, device='cuda:0', grad_fn=<MulBackward0>)\n",
      "Train Recall150:\n",
      "0.15604345797905766\n",
      "Validation Recall150:\n",
      "0.035715205134855904\n",
      "Epoch 9\n",
      "-------------------------------\n",
      "tensor(1.1072, device='cuda:0', grad_fn=<MulBackward0>)\n",
      "Train Recall150:\n",
      "0.17930969199214508\n",
      "Validation Recall150:\n",
      "0.038172269310750725\n",
      "Epoch 10\n",
      "-------------------------------\n",
      "tensor(0.4410, device='cuda:0', grad_fn=<MulBackward0>)\n",
      "Train Recall150:\n",
      "0.20768854280289978\n",
      "Validation Recall150:\n",
      "0.03916188271126596\n",
      "Epoch 11\n",
      "-------------------------------\n",
      "tensor(1.8362, device='cuda:0', grad_fn=<MulBackward0>)\n",
      "Train Recall150:\n",
      "0.23324805472085525\n",
      "Validation Recall150:\n",
      "0.04245645370528619\n",
      "Epoch 12\n",
      "-------------------------------\n",
      "tensor(0.1037, device='cuda:0', grad_fn=<MulBackward0>)\n",
      "Train Recall150:\n",
      "0.254311559184258\n",
      "Validation Recall150:\n",
      "0.046326105901801536\n",
      "Epoch 13\n",
      "-------------------------------\n",
      "tensor(0.0273, device='cuda:0', grad_fn=<MulBackward0>)\n",
      "Train Recall150:\n",
      "0.277201114377082\n",
      "Validation Recall150:\n",
      "0.04964879418929526\n",
      "Epoch 14\n",
      "-------------------------------\n",
      "tensor(5.2080, device='cuda:0', grad_fn=<MulBackward0>)\n",
      "Train Recall150:\n",
      "0.2962421096369266\n",
      "Validation Recall150:\n",
      "0.0504895285762898\n",
      "Epoch 15\n",
      "-------------------------------\n",
      "tensor(0.7487, device='cuda:0', grad_fn=<MulBackward0>)\n",
      "Train Recall150:\n",
      "0.31375508093684373\n",
      "Validation Recall150:\n",
      "0.052935034336578354\n",
      "Epoch 16\n",
      "-------------------------------\n",
      "tensor(1.4543, device='cuda:0', grad_fn=<MulBackward0>)\n",
      "Train Recall150:\n",
      "0.3285959811825275\n",
      "Validation Recall150:\n",
      "0.05604908419036748\n",
      "Epoch 17\n",
      "-------------------------------\n",
      "tensor(6.4806, device='cuda:0', grad_fn=<MulBackward0>)\n",
      "Train Recall150:\n",
      "0.353486620066231\n",
      "Validation Recall150:\n",
      "0.05748819500281425\n",
      "Epoch 18\n",
      "-------------------------------\n",
      "tensor(5.1030, device='cuda:0', grad_fn=<MulBackward0>)\n",
      "Train Recall150:\n",
      "0.3691320935671777\n",
      "Validation Recall150:\n",
      "0.05904987000320689\n",
      "Epoch 19\n",
      "-------------------------------\n",
      "tensor(2.4986, device='cuda:0', grad_fn=<MulBackward0>)\n",
      "Train Recall150:\n",
      "0.3850224119393362\n",
      "Validation Recall150:\n",
      "0.06056180046346439\n",
      "Epoch 20\n",
      "-------------------------------\n",
      "tensor(1.6420, device='cuda:0', grad_fn=<MulBackward0>)\n",
      "Train Recall150:\n",
      "0.40489214545402763\n",
      "Validation Recall150:\n",
      "0.06379486676020148\n",
      "Epoch 21\n",
      "-------------------------------\n",
      "tensor(7.9046, device='cuda:0', grad_fn=<MulBackward0>)\n",
      "Train Recall150:\n",
      "0.4141805367802342\n",
      "Validation Recall150:\n",
      "0.06431538159555135\n",
      "Epoch 22\n",
      "-------------------------------\n",
      "tensor(0.0018, device='cuda:0', grad_fn=<MulBackward0>)\n",
      "Train Recall150:\n",
      "0.4242698611639838\n",
      "Validation Recall150:\n",
      "0.06492422229613519\n",
      "Epoch 23\n",
      "-------------------------------\n",
      "tensor(10.0370, device='cuda:0', grad_fn=<MulBackward0>)\n",
      "Train Recall150:\n",
      "0.43001186417774295\n",
      "Validation Recall150:\n",
      "0.06602131709735844\n",
      "Epoch 24\n",
      "-------------------------------\n",
      "tensor(15.0499, device='cuda:0', grad_fn=<MulBackward0>)\n",
      "Train Recall150:\n",
      "0.43693043518529706\n",
      "Validation Recall150:\n",
      "0.06850288242296047\n",
      "Epoch 25\n",
      "-------------------------------\n",
      "tensor(0.4737, device='cuda:0', grad_fn=<MulBackward0>)\n",
      "Train Recall150:\n",
      "0.4429215577922733\n",
      "Validation Recall150:\n",
      "0.06938909830011453\n",
      "Epoch 26\n",
      "-------------------------------\n",
      "tensor(3.0350, device='cuda:0', grad_fn=<MulBackward0>)\n",
      "Train Recall150:\n",
      "0.4500642950014372\n",
      "Validation Recall150:\n",
      "0.06982402864330177\n",
      "Epoch 27\n",
      "-------------------------------\n",
      "tensor(10.6911, device='cuda:0', grad_fn=<MulBackward0>)\n",
      "Train Recall150:\n",
      "0.4539888285007315\n",
      "Validation Recall150:\n",
      "0.07085467336502524\n",
      "Epoch 28\n",
      "-------------------------------\n",
      "tensor(7.6518, device='cuda:0', grad_fn=<MulBackward0>)\n",
      "Train Recall150:\n",
      "0.4588536826882458\n",
      "Validation Recall150:\n",
      "0.07156286586462285\n",
      "Epoch 29\n",
      "-------------------------------\n",
      "tensor(15.1993, device='cuda:0', grad_fn=<MulBackward0>)\n",
      "Train Recall150:\n",
      "0.4641777531963211\n",
      "Validation Recall150:\n",
      "0.07222557002563702\n",
      "Epoch 30\n",
      "-------------------------------\n",
      "tensor(0.0011, device='cuda:0', grad_fn=<MulBackward0>)\n",
      "Train Recall150:\n",
      "0.46962769471769106\n",
      "Validation Recall150:\n",
      "0.0728698105964831\n",
      "Epoch 31\n",
      "-------------------------------\n",
      "tensor(8.1539, device='cuda:0', grad_fn=<MulBackward0>)\n",
      "Train Recall150:\n",
      "0.4747405886544767\n",
      "Validation Recall150:\n",
      "0.07327952949146453\n",
      "Epoch 32\n",
      "-------------------------------\n",
      "tensor(-0., device='cuda:0', grad_fn=<MulBackward0>)\n",
      "Train Recall150:\n",
      "0.4783212521670441\n",
      "Validation Recall150:\n",
      "0.07336690389076554\n",
      "Epoch 33\n",
      "-------------------------------\n",
      "tensor(6.3216, device='cuda:0', grad_fn=<MulBackward0>)\n",
      "Train Recall150:\n",
      "0.48174545192583024\n",
      "Validation Recall150:\n",
      "0.0735460214093326\n",
      "Epoch 34\n",
      "-------------------------------\n",
      "tensor(3.6240e-07, device='cuda:0', grad_fn=<MulBackward0>)\n",
      "Train Recall150:\n",
      "0.48672639440677273\n",
      "Validation Recall150:\n",
      "0.0738875096866007\n",
      "Epoch 35\n",
      "-------------------------------\n",
      "tensor(0.0002, device='cuda:0', grad_fn=<MulBackward0>)\n",
      "Train Recall150:\n",
      "0.4897844897862967\n",
      "Validation Recall150:\n",
      "0.0740260824181237\n",
      "Epoch 36\n",
      "-------------------------------\n",
      "tensor(8.2131, device='cuda:0', grad_fn=<MulBackward0>)\n",
      "Train Recall150:\n",
      "0.49387289923184896\n",
      "Validation Recall150:\n",
      "0.0740260824181237\n",
      "Epoch 37\n",
      "-------------------------------\n",
      "tensor(5.1317, device='cuda:0', grad_fn=<MulBackward0>)\n",
      "Train Recall150:\n",
      "0.4987431486509707\n",
      "Validation Recall150:\n",
      "0.07477884647364005\n",
      "Epoch 38\n",
      "-------------------------------\n",
      "tensor(5.3525, device='cuda:0', grad_fn=<MulBackward0>)\n",
      "Train Recall150:\n",
      "0.5021878872437783\n",
      "Validation Recall150:\n",
      "0.07549924048869139\n",
      "Epoch 39\n",
      "-------------------------------\n",
      "tensor(14.9698, device='cuda:0', grad_fn=<MulBackward0>)\n",
      "Train Recall150:\n",
      "0.5109440250687772\n",
      "Validation Recall150:\n",
      "0.07551453100856907\n",
      "Epoch 40\n",
      "-------------------------------\n",
      "tensor(14.4154, device='cuda:0', grad_fn=<MulBackward0>)\n",
      "Train Recall150:\n",
      "0.5139223528480782\n",
      "Validation Recall150:\n",
      "0.07549705612870888\n",
      "Done!\n"
     ]
    }
   ],
   "source": [
    "model1 = EmbeddingLayer().to(device)\n",
    "\n",
    "learning_rate = 1e-3\n",
    "optimizer = torch.optim.SGD(model1.parameters(), lr=learning_rate) # We prefer Adam but instructions say to use SGD for part 2.\n",
    "K = 2 # num_steps = 5 but bfs more likely than dfs, so set K=2 to balance. we expect num unique nodes in each walk to be ~2.\n",
    "upweight = 200\n",
    "\n",
    "epochs = 40\n",
    "for t in range(epochs):\n",
    "    print(f\"Epoch {t+1}\\n-------------------------------\")\n",
    "    train_loop(model1, optimizer, random_walk_adj_mat, K, upweight)\n",
    "    print(f\"Train Recall150:\\n{recall150(adjacency_matrix_train, model1)}\")\n",
    "    print(f\"Validation Recall150:\\n{recall150(adjacency_matrix_val, model1)}\")\n",
    "print(\"Done!\")"
   ]
  },
  {
   "cell_type": "markdown",
   "metadata": {
    "id": "f43H0m57hGQO"
   },
   "source": [
    "Model 2:\n",
    "- learning_rate = 1e-3\n",
    "- K = 2\n",
    "- upweight = 10"
   ]
  },
  {
   "cell_type": "code",
   "execution_count": null,
   "metadata": {
    "colab": {
     "base_uri": "https://localhost:8080/"
    },
    "id": "5YMa9K2KwZvx",
    "outputId": "a13f759e-f6d3-43e8-a04c-33af9124149a"
   },
   "outputs": [
    {
     "name": "stdout",
     "output_type": "stream",
     "text": [
      "Epoch 1\n",
      "-------------------------------\n",
      "tensor(3.5892, device='cuda:0', grad_fn=<MulBackward0>)\n",
      "Train Recall150:\n",
      "0.008556444024088188\n",
      "Validation Recall150:\n",
      "0.010408862574587304\n",
      "Epoch 2\n",
      "-------------------------------\n",
      "tensor(3.5774, device='cuda:0', grad_fn=<MulBackward0>)\n",
      "Train Recall150:\n",
      "0.008556444024088188\n",
      "Validation Recall150:\n",
      "0.009936392657672943\n",
      "Epoch 3\n",
      "-------------------------------\n",
      "tensor(3.5287, device='cuda:0', grad_fn=<MulBackward0>)\n",
      "Train Recall150:\n",
      "0.008556444024088188\n",
      "Validation Recall150:\n",
      "0.009793942515222802\n",
      "Epoch 4\n",
      "-------------------------------\n",
      "tensor(3.5039, device='cuda:0', grad_fn=<MulBackward0>)\n",
      "Train Recall150:\n",
      "0.008240188489616336\n",
      "Validation Recall150:\n",
      "0.009793942515222802\n",
      "Epoch 5\n",
      "-------------------------------\n",
      "tensor(3.5962, device='cuda:0', grad_fn=<MulBackward0>)\n",
      "Train Recall150:\n",
      "0.008113686275827594\n",
      "Validation Recall150:\n",
      "0.009793942515222802\n",
      "Epoch 6\n",
      "-------------------------------\n",
      "tensor(3.5275, device='cuda:0', grad_fn=<MulBackward0>)\n",
      "Train Recall150:\n",
      "0.008598611428684434\n",
      "Validation Recall150:\n",
      "0.009510398898345849\n",
      "Epoch 7\n",
      "-------------------------------\n",
      "tensor(3.6124, device='cuda:0', grad_fn=<MulBackward0>)\n",
      "Train Recall150:\n",
      "0.008559886261198085\n",
      "Validation Recall150:\n",
      "0.009652849040795991\n",
      "Epoch 8\n",
      "-------------------------------\n",
      "tensor(3.5629, device='cuda:0', grad_fn=<MulBackward0>)\n",
      "Train Recall150:\n",
      "0.008130444535441568\n",
      "Validation Recall150:\n",
      "0.009722042642975706\n",
      "Epoch 9\n",
      "-------------------------------\n",
      "tensor(3.5438, device='cuda:0', grad_fn=<MulBackward0>)\n",
      "Train Recall150:\n",
      "0.008628547002234737\n",
      "Validation Recall150:\n",
      "0.009457492378425442\n",
      "Epoch 10\n",
      "-------------------------------\n",
      "tensor(3.6065, device='cuda:0', grad_fn=<MulBackward0>)\n",
      "Train Recall150:\n",
      "0.008470419234998812\n",
      "Validation Recall150:\n",
      "0.00935016914610221\n",
      "Epoch 11\n",
      "-------------------------------\n",
      "tensor(3.5902, device='cuda:0', grad_fn=<MulBackward0>)\n",
      "Train Recall150:\n",
      "0.008421764537387756\n",
      "Validation Recall150:\n",
      "0.009555930462974637\n",
      "Epoch 12\n",
      "-------------------------------\n",
      "tensor(3.5244, device='cuda:0', grad_fn=<MulBackward0>)\n",
      "Train Recall150:\n",
      "0.008421764537387756\n",
      "Validation Recall150:\n",
      "0.009529092030339104\n",
      "Epoch 13\n",
      "-------------------------------\n",
      "tensor(3.4967, device='cuda:0', grad_fn=<MulBackward0>)\n",
      "Train Recall150:\n",
      "0.008512123261522571\n",
      "Validation Recall150:\n",
      "0.009487004488251561\n",
      "Epoch 14\n",
      "-------------------------------\n",
      "tensor(3.5212, device='cuda:0', grad_fn=<MulBackward0>)\n",
      "Train Recall150:\n",
      "0.009101078847644632\n",
      "Validation Recall150:\n",
      "0.00955291241006226\n",
      "Epoch 15\n",
      "-------------------------------\n",
      "tensor(3.4990, device='cuda:0', grad_fn=<MulBackward0>)\n",
      "Train Recall150:\n",
      "0.009053640517473854\n",
      "Validation Recall150:\n",
      "0.010123619480769331\n",
      "Epoch 16\n",
      "-------------------------------\n",
      "tensor(3.5394, device='cuda:0', grad_fn=<MulBackward0>)\n",
      "Train Recall150:\n",
      "0.009269883617967429\n",
      "Validation Recall150:\n",
      "0.010123619480769331\n",
      "Epoch 17\n",
      "-------------------------------\n",
      "tensor(3.4460, device='cuda:0', grad_fn=<MulBackward0>)\n",
      "Train Recall150:\n",
      "0.009269883617967429\n",
      "Validation Recall150:\n",
      "0.010245116639303527\n",
      "Epoch 18\n",
      "-------------------------------\n",
      "tensor(3.5650, device='cuda:0', grad_fn=<MulBackward0>)\n",
      "Train Recall150:\n",
      "0.009902394686911134\n",
      "Validation Recall150:\n",
      "0.010230649046710933\n",
      "Epoch 19\n",
      "-------------------------------\n",
      "tensor(3.4655, device='cuda:0', grad_fn=<MulBackward0>)\n",
      "Train Recall150:\n",
      "0.009902394686911134\n",
      "Validation Recall150:\n",
      "0.009907651630690264\n",
      "Epoch 20\n",
      "-------------------------------\n",
      "tensor(3.5028, device='cuda:0', grad_fn=<MulBackward0>)\n",
      "Train Recall150:\n",
      "0.00962228264209321\n",
      "Validation Recall150:\n",
      "0.010139133112171742\n",
      "Done!\n"
     ]
    }
   ],
   "source": [
    "model2 = EmbeddingLayer().to(device)\n",
    "\n",
    "learning_rate = 1e-3\n",
    "optimizer2 = torch.optim.SGD(model2.parameters(), lr=learning_rate) # We prefer Adam but instructions say to use SGD for part 2.\n",
    "K2 = 2 # num_steps = 5 but bfs more likely than dfs, so set K=2 to balance. we expect num unique nodes in each walk to be ~2.\n",
    "upweight2 = 10 # make effect of upweight smaller to see how much it effects results\n",
    "\n",
    "epochs = 20\n",
    "for t in range(epochs):\n",
    "    print(f\"Epoch {t+1}\\n-------------------------------\")\n",
    "    train_loop(model2, optimizer2, random_walk_adj_mat, K2, upweight2)\n",
    "    print(f\"Train Recall150:\\n{recall150(adjacency_matrix_train, model2)}\")\n",
    "    print(f\"Validation Recall150:\\n{recall150(adjacency_matrix_val, model2)}\")\n",
    "print(\"Done!\")"
   ]
  },
  {
   "cell_type": "markdown",
   "metadata": {
    "id": "yunRyug7hU7l"
   },
   "source": [
    "Model 3:\n",
    "- learning_rate = 1e-3\n",
    "- K = 2\n",
    "- upweight = 500"
   ]
  },
  {
   "cell_type": "code",
   "execution_count": null,
   "metadata": {
    "colab": {
     "base_uri": "https://localhost:8080/"
    },
    "id": "75wBMci0x-3d",
    "outputId": "76e46408-af50-4a65-8fd1-e3a7a6830976"
   },
   "outputs": [
    {
     "name": "stdout",
     "output_type": "stream",
     "text": [
      "Epoch 1\n",
      "-------------------------------\n",
      "tensor(34.0162, device='cuda:0', grad_fn=<MulBackward0>)\n",
      "Train Recall150:\n",
      "0.028162039657716943\n",
      "Validation Recall150:\n",
      "0.010829642347159569\n",
      "Epoch 2\n",
      "-------------------------------\n",
      "tensor(4.9577, device='cuda:0', grad_fn=<MulBackward0>)\n",
      "Train Recall150:\n",
      "0.06130597292056377\n",
      "Validation Recall150:\n",
      "0.017358414783591944\n",
      "Epoch 3\n",
      "-------------------------------\n",
      "tensor(0.7782, device='cuda:0', grad_fn=<MulBackward0>)\n",
      "Train Recall150:\n",
      "0.14371878812532152\n",
      "Validation Recall150:\n",
      "0.02628540680001843\n",
      "Epoch 4\n",
      "-------------------------------\n",
      "tensor(0.7584, device='cuda:0', grad_fn=<MulBackward0>)\n",
      "Train Recall150:\n",
      "0.21226260097922167\n",
      "Validation Recall150:\n",
      "0.033490740051310114\n",
      "Epoch 5\n",
      "-------------------------------\n",
      "tensor(2.3832, device='cuda:0', grad_fn=<MulBackward0>)\n",
      "Train Recall150:\n",
      "0.2629910995681937\n",
      "Validation Recall150:\n",
      "0.04004396060898495\n",
      "Epoch 6\n",
      "-------------------------------\n",
      "tensor(0.0110, device='cuda:0', grad_fn=<MulBackward0>)\n",
      "Train Recall150:\n",
      "0.27874924442011767\n",
      "Validation Recall150:\n",
      "0.041775512329212894\n",
      "Epoch 7\n",
      "-------------------------------\n",
      "tensor(0.0107, device='cuda:0', grad_fn=<MulBackward0>)\n",
      "Train Recall150:\n",
      "0.30714632103148\n",
      "Validation Recall150:\n",
      "0.03885632439945365\n",
      "Epoch 8\n",
      "-------------------------------\n",
      "tensor(5.8927, device='cuda:0', grad_fn=<MulBackward0>)\n",
      "Train Recall150:\n",
      "0.3100082679777679\n",
      "Validation Recall150:\n",
      "0.03800362227539753\n",
      "Epoch 9\n",
      "-------------------------------\n",
      "tensor(1.2217, device='cuda:0', grad_fn=<MulBackward0>)\n",
      "Train Recall150:\n",
      "0.323046285177964\n",
      "Validation Recall150:\n",
      "0.037096973699196706\n",
      "Epoch 10\n",
      "-------------------------------\n",
      "tensor(18.6642, device='cuda:0', grad_fn=<MulBackward0>)\n",
      "Train Recall150:\n",
      "0.3246989956176203\n",
      "Validation Recall150:\n",
      "0.037651533135655044\n",
      "Epoch 11\n",
      "-------------------------------\n",
      "tensor(11.4700, device='cuda:0', grad_fn=<MulBackward0>)\n",
      "Train Recall150:\n",
      "0.323980517430321\n",
      "Validation Recall150:\n",
      "0.0357411671349596\n",
      "Epoch 12\n",
      "-------------------------------\n",
      "tensor(4.7798, device='cuda:0', grad_fn=<MulBackward0>)\n",
      "Train Recall150:\n",
      "0.3201697188296063\n",
      "Validation Recall150:\n",
      "0.03349269427084212\n",
      "Epoch 13\n",
      "-------------------------------\n",
      "tensor(26.5972, device='cuda:0', grad_fn=<MulBackward0>)\n",
      "Train Recall150:\n",
      "0.3212283284672835\n",
      "Validation Recall150:\n",
      "0.033362986054953934\n",
      "Epoch 14\n",
      "-------------------------------\n",
      "tensor(19.8719, device='cuda:0', grad_fn=<MulBackward0>)\n",
      "Train Recall150:\n",
      "0.3205850009026184\n",
      "Validation Recall150:\n",
      "0.03387225489473943\n",
      "Epoch 15\n",
      "-------------------------------\n",
      "tensor(13.3611, device='cuda:0', grad_fn=<MulBackward0>)\n",
      "Train Recall150:\n",
      "0.3258028424896461\n",
      "Validation Recall150:\n",
      "0.03605699391772086\n",
      "Epoch 16\n",
      "-------------------------------\n",
      "tensor(24.1477, device='cuda:0', grad_fn=<MulBackward0>)\n",
      "Train Recall150:\n",
      "0.32801594594100475\n",
      "Validation Recall150:\n",
      "0.03584912959469479\n",
      "Epoch 17\n",
      "-------------------------------\n",
      "tensor(1.0354e-07, device='cuda:0', grad_fn=<MulBackward0>)\n",
      "Train Recall150:\n",
      "0.3399467811441751\n",
      "Validation Recall150:\n",
      "0.036825649171155786\n",
      "Epoch 18\n",
      "-------------------------------\n",
      "tensor(8.5447, device='cuda:0', grad_fn=<MulBackward0>)\n",
      "Train Recall150:\n",
      "0.34723225752504955\n",
      "Validation Recall150:\n",
      "0.03754302434386655\n",
      "Epoch 19\n",
      "-------------------------------\n",
      "tensor(6.3389, device='cuda:0', grad_fn=<MulBackward0>)\n",
      "Train Recall150:\n",
      "0.3525705895520264\n",
      "Validation Recall150:\n",
      "0.03857356566798586\n",
      "Epoch 20\n",
      "-------------------------------\n",
      "tensor(20.1527, device='cuda:0', grad_fn=<MulBackward0>)\n",
      "Train Recall150:\n",
      "0.3574703546303629\n",
      "Validation Recall150:\n",
      "0.04041346888403586\n",
      "Epoch 21\n",
      "-------------------------------\n",
      "tensor(23.4662, device='cuda:0', grad_fn=<MulBackward0>)\n",
      "Train Recall150:\n",
      "0.3634208317134052\n",
      "Validation Recall150:\n",
      "0.040675592081938876\n",
      "Epoch 22\n",
      "-------------------------------\n",
      "tensor(0.0270, device='cuda:0', grad_fn=<MulBackward0>)\n",
      "Train Recall150:\n",
      "0.3676330098917488\n",
      "Validation Recall150:\n",
      "0.040675592081938876\n",
      "Epoch 23\n",
      "-------------------------------\n",
      "tensor(12.2937, device='cuda:0', grad_fn=<MulBackward0>)\n",
      "Train Recall150:\n",
      "0.3723074366026547\n",
      "Validation Recall150:\n",
      "0.04081415396118437\n",
      "Epoch 24\n",
      "-------------------------------\n",
      "tensor(3.1063e-07, device='cuda:0', grad_fn=<MulBackward0>)\n",
      "Train Recall150:\n",
      "0.37663476260120393\n",
      "Validation Recall150:\n",
      "0.04338804386373049\n",
      "Epoch 25\n",
      "-------------------------------\n",
      "tensor(28.2925, device='cuda:0', grad_fn=<MulBackward0>)\n",
      "Train Recall150:\n",
      "0.38023501073926735\n",
      "Validation Recall150:\n",
      "0.044311471338696\n",
      "Epoch 26\n",
      "-------------------------------\n",
      "tensor(0.0175, device='cuda:0', grad_fn=<MulBackward0>)\n",
      "Train Recall150:\n",
      "0.38522560020285335\n",
      "Validation Recall150:\n",
      "0.04656159205332661\n",
      "Epoch 27\n",
      "-------------------------------\n",
      "tensor(5.1772e-08, device='cuda:0', grad_fn=<MulBackward0>)\n",
      "Train Recall150:\n",
      "0.3911770872992984\n",
      "Validation Recall150:\n",
      "0.047149913008620044\n",
      "Epoch 28\n",
      "-------------------------------\n",
      "tensor(11.4993, device='cuda:0', grad_fn=<MulBackward0>)\n",
      "Train Recall150:\n",
      "0.39495320984420695\n",
      "Validation Recall150:\n",
      "0.04716520352849772\n",
      "Epoch 29\n",
      "-------------------------------\n",
      "tensor(4.2869, device='cuda:0', grad_fn=<MulBackward0>)\n",
      "Train Recall150:\n",
      "0.4024793046823319\n",
      "Validation Recall150:\n",
      "0.0478327191237073\n",
      "Epoch 30\n",
      "-------------------------------\n",
      "tensor(27.0099, device='cuda:0', grad_fn=<MulBackward0>)\n",
      "Train Recall150:\n",
      "0.4075583491490988\n",
      "Validation Recall150:\n",
      "0.048016205362239404\n",
      "Epoch 31\n",
      "-------------------------------\n",
      "tensor(-0., device='cuda:0', grad_fn=<MulBackward0>)\n",
      "Train Recall150:\n",
      "0.408696202072666\n",
      "Validation Recall150:\n",
      "0.04804067019404369\n",
      "Epoch 32\n",
      "-------------------------------\n",
      "tensor(8.0332e-05, device='cuda:0', grad_fn=<MulBackward0>)\n",
      "Train Recall150:\n",
      "0.41298383740021727\n",
      "Validation Recall150:\n",
      "0.0483432206578689\n",
      "Epoch 33\n",
      "-------------------------------\n",
      "tensor(4.6374, device='cuda:0', grad_fn=<MulBackward0>)\n",
      "Train Recall150:\n",
      "0.41614516214822933\n",
      "Validation Recall150:\n",
      "0.04888692423150971\n",
      "Epoch 34\n",
      "-------------------------------\n",
      "tensor(18.9911, device='cuda:0', grad_fn=<MulBackward0>)\n",
      "Train Recall150:\n",
      "0.4187911755085285\n",
      "Validation Recall150:\n",
      "0.04928739659472019\n",
      "Epoch 35\n",
      "-------------------------------\n",
      "tensor(15.2677, device='cuda:0', grad_fn=<MulBackward0>)\n",
      "Train Recall150:\n",
      "0.42291992362763264\n",
      "Validation Recall150:\n",
      "0.04976067459093396\n",
      "Epoch 36\n",
      "-------------------------------\n",
      "tensor(10.4329, device='cuda:0', grad_fn=<MulBackward0>)\n",
      "Train Recall150:\n",
      "0.42464542049341925\n",
      "Validation Recall150:\n",
      "0.04974309049307463\n",
      "Epoch 37\n",
      "-------------------------------\n",
      "tensor(2.9779, device='cuda:0', grad_fn=<MulBackward0>)\n",
      "Train Recall150:\n",
      "0.4273394526517372\n",
      "Validation Recall150:\n",
      "0.04982454048188645\n",
      "Epoch 38\n",
      "-------------------------------\n",
      "tensor(11.8960, device='cuda:0', grad_fn=<MulBackward0>)\n",
      "Train Recall150:\n",
      "0.4296721424844271\n",
      "Validation Recall150:\n",
      "0.050144622031325796\n",
      "Epoch 39\n",
      "-------------------------------\n",
      "tensor(2.0017, device='cuda:0', grad_fn=<MulBackward0>)\n",
      "Train Recall150:\n",
      "0.4330719513994947\n",
      "Validation Recall150:\n",
      "0.05018131927903222\n",
      "Epoch 40\n",
      "-------------------------------\n",
      "tensor(22.6526, device='cuda:0', grad_fn=<MulBackward0>)\n",
      "Train Recall150:\n",
      "0.4347581623619709\n",
      "Validation Recall150:\n",
      "0.05028962712816576\n",
      "Done!\n"
     ]
    }
   ],
   "source": [
    "model3 = EmbeddingLayer().to(device)\n",
    "\n",
    "learning_rate = 1e-3\n",
    "optimizer3 = torch.optim.SGD(model3.parameters(), lr=learning_rate) # We prefer Adam but instructions say to use SGD for part 2.\n",
    "K3 = 2 # num_steps = 5 but bfs more likely than dfs, so set K=2 to balance. we expect num unique nodes in each walk to be ~2.\n",
    "upweight3 = 500 # make effect of upweight smaller to see how much it effects results\n",
    "\n",
    "epochs = 40\n",
    "for t in range(epochs):\n",
    "    print(f\"Epoch {t+1}\\n-------------------------------\")\n",
    "    train_loop(model3, optimizer3, random_walk_adj_mat, K3, upweight3)\n",
    "    print(f\"Train Recall150:\\n{recall150(adjacency_matrix_train, model3)}\")\n",
    "    print(f\"Validation Recall150:\\n{recall150(adjacency_matrix_val, model3)}\")\n",
    "print(\"Done!\")"
   ]
  },
  {
   "cell_type": "markdown",
   "metadata": {
    "id": "qwTJ4tHWSZdj"
   },
   "source": [
    "# Model Type 2\n",
    "p = 1\n",
    "\n",
    "q = 3\n",
    "\n",
    "num_walks = 10\n",
    "\n",
    "num_steps = 2"
   ]
  },
  {
   "cell_type": "markdown",
   "metadata": {
    "id": "euyyCl9vhszn"
   },
   "source": [
    "### Simulate new walks \n",
    "Simulate walks given new parameters"
   ]
  },
  {
   "cell_type": "code",
   "execution_count": null,
   "metadata": {
    "id": "I9NL1gwISxVk"
   },
   "outputs": [],
   "source": [
    "p = 1\n",
    "q = 3\n",
    "num_walks = 10\n",
    "num_steps = 2\n",
    "cache = simulate_walks(num_walks, num_steps, p, q)"
   ]
  },
  {
   "cell_type": "markdown",
   "metadata": {
    "id": "H3XpUdQUihTB"
   },
   "source": [
    "### Construct new adjacency matrix from newly simulated walks"
   ]
  },
  {
   "cell_type": "code",
   "execution_count": 30,
   "metadata": {
    "id": "wWCrY1XwS1Ry"
   },
   "outputs": [],
   "source": [
    "random_walk_adj_mat = construct_adj_mat(cache, num_walks)"
   ]
  },
  {
   "cell_type": "markdown",
   "metadata": {
    "id": "dC5rGhRNi-gZ"
   },
   "source": [
    "Model 4:\n",
    "- learning_rate = 1e-3\n",
    "- K = 5\n",
    "- upweight = 200"
   ]
  },
  {
   "cell_type": "code",
   "execution_count": null,
   "metadata": {
    "colab": {
     "base_uri": "https://localhost:8080/"
    },
    "id": "kUwlzaltSRq_",
    "outputId": "b4e694d0-e4b6-43d3-e516-2e734b63d287"
   },
   "outputs": [
    {
     "name": "stdout",
     "output_type": "stream",
     "text": [
      "Epoch 1\n",
      "-------------------------------\n",
      "tensor(49.7420, device='cuda:0', grad_fn=<MulBackward0>)\n",
      "Train Recall150:\n",
      "0.02076493060323217\n",
      "Validation Recall150:\n",
      "0.011143133158280815\n",
      "Epoch 2\n",
      "-------------------------------\n",
      "tensor(46.9331, device='cuda:0', grad_fn=<MulBackward0>)\n",
      "Train Recall150:\n",
      "0.029734736676168022\n",
      "Validation Recall150:\n",
      "0.011348732726137015\n",
      "Epoch 3\n",
      "-------------------------------\n",
      "tensor(42.5829, device='cuda:0', grad_fn=<MulBackward0>)\n",
      "Train Recall150:\n",
      "0.036448329414940396\n",
      "Validation Recall150:\n",
      "0.012988991849530347\n",
      "Epoch 4\n",
      "-------------------------------\n",
      "tensor(35.4418, device='cuda:0', grad_fn=<MulBackward0>)\n",
      "Train Recall150:\n",
      "0.04765931215194141\n",
      "Validation Recall150:\n",
      "0.01647652226220962\n",
      "Epoch 5\n",
      "-------------------------------\n",
      "tensor(26.8021, device='cuda:0', grad_fn=<MulBackward0>)\n",
      "Train Recall150:\n",
      "0.07394034492113699\n",
      "Validation Recall150:\n",
      "0.02015453547171135\n",
      "Epoch 6\n",
      "-------------------------------\n",
      "tensor(17.1767, device='cuda:0', grad_fn=<MulBackward0>)\n",
      "Train Recall150:\n",
      "0.10320430744232419\n",
      "Validation Recall150:\n",
      "0.025310043997418707\n",
      "Epoch 7\n",
      "-------------------------------\n",
      "tensor(7.5875, device='cuda:0', grad_fn=<MulBackward0>)\n",
      "Train Recall150:\n",
      "0.15409997035988737\n",
      "Validation Recall150:\n",
      "0.030407488462700062\n",
      "Epoch 8\n",
      "-------------------------------\n",
      "tensor(2.1170, device='cuda:0', grad_fn=<MulBackward0>)\n",
      "Train Recall150:\n",
      "0.1991042882683949\n",
      "Validation Recall150:\n",
      "0.035008637399898165\n",
      "Epoch 9\n",
      "-------------------------------\n",
      "tensor(2.4689, device='cuda:0', grad_fn=<MulBackward0>)\n",
      "Train Recall150:\n",
      "0.2300025226402329\n",
      "Validation Recall150:\n",
      "0.037555166205475124\n",
      "Epoch 10\n",
      "-------------------------------\n",
      "tensor(3.3640, device='cuda:0', grad_fn=<MulBackward0>)\n",
      "Train Recall150:\n",
      "0.2620362474329896\n",
      "Validation Recall150:\n",
      "0.0417251156115016\n",
      "Epoch 11\n",
      "-------------------------------\n",
      "tensor(3.6066, device='cuda:0', grad_fn=<MulBackward0>)\n",
      "Train Recall150:\n",
      "0.3007930800091071\n",
      "Validation Recall150:\n",
      "0.04532369444687176\n",
      "Epoch 12\n",
      "-------------------------------\n",
      "tensor(7.5956, device='cuda:0', grad_fn=<MulBackward0>)\n",
      "Train Recall150:\n",
      "0.32968695576204576\n",
      "Validation Recall150:\n",
      "0.049034914310497404\n",
      "Epoch 13\n",
      "-------------------------------\n",
      "tensor(8.0029, device='cuda:0', grad_fn=<MulBackward0>)\n",
      "Train Recall150:\n",
      "0.3626292806730613\n",
      "Validation Recall150:\n",
      "0.050472947739627745\n",
      "Epoch 14\n",
      "-------------------------------\n",
      "tensor(0.9055, device='cuda:0', grad_fn=<MulBackward0>)\n",
      "Train Recall150:\n",
      "0.3955902678602593\n",
      "Validation Recall150:\n",
      "0.05534408136981935\n",
      "Epoch 15\n",
      "-------------------------------\n",
      "tensor(13.3849, device='cuda:0', grad_fn=<MulBackward0>)\n",
      "Train Recall150:\n",
      "0.42346334269056535\n",
      "Validation Recall150:\n",
      "0.05982054576373782\n",
      "Epoch 16\n",
      "-------------------------------\n",
      "tensor(10.5707, device='cuda:0', grad_fn=<MulBackward0>)\n",
      "Train Recall150:\n",
      "0.4458818168143227\n",
      "Validation Recall150:\n",
      "0.0672257327396694\n",
      "Epoch 17\n",
      "-------------------------------\n",
      "tensor(25.6479, device='cuda:0', grad_fn=<MulBackward0>)\n",
      "Train Recall150:\n",
      "0.47283040160806966\n",
      "Validation Recall150:\n",
      "0.06939980201671662\n",
      "Epoch 18\n",
      "-------------------------------\n",
      "tensor(35.0273, device='cuda:0', grad_fn=<MulBackward0>)\n",
      "Train Recall150:\n",
      "0.4955919546764737\n",
      "Validation Recall150:\n",
      "0.06976537514908006\n",
      "Epoch 19\n",
      "-------------------------------\n",
      "tensor(0.0094, device='cuda:0', grad_fn=<MulBackward0>)\n",
      "Train Recall150:\n",
      "0.5132743291960776\n",
      "Validation Recall150:\n",
      "0.07399918504172075\n",
      "Epoch 20\n",
      "-------------------------------\n",
      "tensor(6.8339e-06, device='cuda:0', grad_fn=<MulBackward0>)\n",
      "Train Recall150:\n",
      "0.5311042506681487\n",
      "Validation Recall150:\n",
      "0.07858613852814107\n",
      "Epoch 21\n",
      "-------------------------------\n",
      "tensor(14.6290, device='cuda:0', grad_fn=<MulBackward0>)\n",
      "Train Recall150:\n",
      "0.5507984775497409\n",
      "Validation Recall150:\n",
      "0.08090597968750794\n",
      "Epoch 22\n",
      "-------------------------------\n",
      "tensor(9.5870, device='cuda:0', grad_fn=<MulBackward0>)\n",
      "Train Recall150:\n",
      "0.5630759136315989\n",
      "Validation Recall150:\n",
      "0.0825963752802333\n",
      "Epoch 23\n",
      "-------------------------------\n",
      "tensor(9.4834, device='cuda:0', grad_fn=<MulBackward0>)\n",
      "Train Recall150:\n",
      "0.5747993571833717\n",
      "Validation Recall150:\n",
      "0.08246996795467545\n",
      "Epoch 24\n",
      "-------------------------------\n",
      "tensor(15.5706, device='cuda:0', grad_fn=<MulBackward0>)\n",
      "Train Recall150:\n",
      "0.5921386262764728\n",
      "Validation Recall150:\n",
      "0.08373503029224809\n",
      "Epoch 25\n",
      "-------------------------------\n",
      "tensor(16.3083, device='cuda:0', grad_fn=<MulBackward0>)\n",
      "Train Recall150:\n",
      "0.6029762162209295\n",
      "Validation Recall150:\n",
      "0.08432834381191821\n",
      "Epoch 26\n",
      "-------------------------------\n",
      "tensor(20.5583, device='cuda:0', grad_fn=<MulBackward0>)\n",
      "Train Recall150:\n",
      "0.6124713374369765\n",
      "Validation Recall150:\n",
      "0.08529126559273105\n",
      "Epoch 27\n",
      "-------------------------------\n",
      "tensor(9.3451, device='cuda:0', grad_fn=<MulBackward0>)\n",
      "Train Recall150:\n",
      "0.6240787458475712\n",
      "Validation Recall150:\n",
      "0.08615663024756937\n",
      "Epoch 28\n",
      "-------------------------------\n",
      "tensor(16.5498, device='cuda:0', grad_fn=<MulBackward0>)\n",
      "Train Recall150:\n",
      "0.6299915646210701\n",
      "Validation Recall150:\n",
      "0.08670264790874907\n",
      "Epoch 29\n",
      "-------------------------------\n",
      "tensor(3.6565, device='cuda:0', grad_fn=<MulBackward0>)\n",
      "Train Recall150:\n",
      "0.6376229396800698\n",
      "Validation Recall150:\n",
      "0.08691466578932562\n",
      "Epoch 30\n",
      "-------------------------------\n",
      "tensor(5.1254, device='cuda:0', grad_fn=<MulBackward0>)\n",
      "Train Recall150:\n",
      "0.644821482007944\n",
      "Validation Recall150:\n",
      "0.0888165651508503\n",
      "Done!\n"
     ]
    }
   ],
   "source": [
    "model4 = EmbeddingLayer().to(device)\n",
    "\n",
    "learning_rate = 1e-3\n",
    "optimizer4 = torch.optim.SGD(model4.parameters(), lr=learning_rate) # We prefer Adam but instructions say to use SGD for part 2.\n",
    "K4 = 5 # num_walks = 10 but bfs more likely than dfs, so set K=5 to balance. we expect num unique nodes in each walk to be ~5.\n",
    "upweight4 = 200\n",
    "\n",
    "epochs = 30\n",
    "for t in range(epochs):\n",
    "    print(f\"Epoch {t+1}\\n-------------------------------\")\n",
    "    train_loop(model4, optimizer4, random_walk_adj_mat, K4, upweight4)\n",
    "    print(f\"Train Recall150:\\n{recall150(adjacency_matrix_train, model4)}\")\n",
    "    print(f\"Validation Recall150:\\n{recall150(adjacency_matrix_val, model4)}\")\n",
    "print(\"Done!\")"
   ]
  },
  {
   "cell_type": "markdown",
   "metadata": {
    "id": "x1WHa7dExoGW"
   },
   "source": [
    "**Try both smaller (100) and larger(400) upweight**"
   ]
  },
  {
   "cell_type": "markdown",
   "metadata": {
    "id": "HUCdseVgi775"
   },
   "source": [
    "Model 5:\n",
    "- learning_rate = 1e-3\n",
    "- K = 5\n",
    "- upweight = 100"
   ]
  },
  {
   "cell_type": "code",
   "execution_count": 33,
   "metadata": {
    "colab": {
     "base_uri": "https://localhost:8080/"
    },
    "id": "UpPL5xs9xexP",
    "outputId": "71bfa255-7f41-4ec8-acc5-104b2722a760"
   },
   "outputs": [
    {
     "name": "stdout",
     "output_type": "stream",
     "text": [
      "Epoch 1\n",
      "-------------------------------\n",
      "tensor(28.1396, device='cuda:0', grad_fn=<MulBackward0>)\n",
      "Train Recall150:\n",
      "0.017944736204583485\n",
      "Validation Recall150:\n",
      "0.015428908666489272\n",
      "Epoch 2\n",
      "-------------------------------\n",
      "tensor(27.6315, device='cuda:0', grad_fn=<MulBackward0>)\n",
      "Train Recall150:\n",
      "0.01860620115714949\n",
      "Validation Recall150:\n",
      "0.01402337585512311\n",
      "Epoch 3\n",
      "-------------------------------\n",
      "tensor(26.6234, device='cuda:0', grad_fn=<MulBackward0>)\n",
      "Train Recall150:\n",
      "0.022318760931470005\n",
      "Validation Recall150:\n",
      "0.013454840315130445\n",
      "Epoch 4\n",
      "-------------------------------\n",
      "tensor(25.5477, device='cuda:0', grad_fn=<MulBackward0>)\n",
      "Train Recall150:\n",
      "0.027299356088670103\n",
      "Validation Recall150:\n",
      "0.013022944065092024\n",
      "Epoch 5\n",
      "-------------------------------\n",
      "tensor(24.3358, device='cuda:0', grad_fn=<MulBackward0>)\n",
      "Train Recall150:\n",
      "0.03135569137997938\n",
      "Validation Recall150:\n",
      "0.013123428894843877\n",
      "Epoch 6\n",
      "-------------------------------\n",
      "tensor(23.4570, device='cuda:0', grad_fn=<MulBackward0>)\n",
      "Train Recall150:\n",
      "0.037885613236764766\n",
      "Validation Recall150:\n",
      "0.014430329680233075\n",
      "Epoch 7\n",
      "-------------------------------\n",
      "tensor(21.5579, device='cuda:0', grad_fn=<MulBackward0>)\n",
      "Train Recall150:\n",
      "0.04435305093377552\n",
      "Validation Recall150:\n",
      "0.015573080866802612\n",
      "Epoch 8\n",
      "-------------------------------\n",
      "tensor(19.5652, device='cuda:0', grad_fn=<MulBackward0>)\n",
      "Train Recall150:\n",
      "0.05372810212541294\n",
      "Validation Recall150:\n",
      "0.020551954948853427\n",
      "Epoch 9\n",
      "-------------------------------\n",
      "tensor(16.5743, device='cuda:0', grad_fn=<MulBackward0>)\n",
      "Train Recall150:\n",
      "0.06227261415303555\n",
      "Validation Recall150:\n",
      "0.02393406118109344\n",
      "Epoch 10\n",
      "-------------------------------\n",
      "tensor(13.5689, device='cuda:0', grad_fn=<MulBackward0>)\n",
      "Train Recall150:\n",
      "0.0702269839208319\n",
      "Validation Recall150:\n",
      "0.025864032264371655\n",
      "Epoch 11\n",
      "-------------------------------\n",
      "tensor(10.5494, device='cuda:0', grad_fn=<MulBackward0>)\n",
      "Train Recall150:\n",
      "0.0888631087145584\n",
      "Validation Recall150:\n",
      "0.02834206963361989\n",
      "Epoch 12\n",
      "-------------------------------\n",
      "tensor(8.2177, device='cuda:0', grad_fn=<MulBackward0>)\n",
      "Train Recall150:\n",
      "0.10312614938852724\n",
      "Validation Recall150:\n",
      "0.029887144863631542\n",
      "Epoch 13\n",
      "-------------------------------\n",
      "tensor(5.2498, device='cuda:0', grad_fn=<MulBackward0>)\n",
      "Train Recall150:\n",
      "0.12054667007371409\n",
      "Validation Recall150:\n",
      "0.032198420190090324\n",
      "Epoch 14\n",
      "-------------------------------\n",
      "tensor(3.5174, device='cuda:0', grad_fn=<MulBackward0>)\n",
      "Train Recall150:\n",
      "0.1387530581097972\n",
      "Validation Recall150:\n",
      "0.0350318850346728\n",
      "Epoch 15\n",
      "-------------------------------\n",
      "tensor(2.8896, device='cuda:0', grad_fn=<MulBackward0>)\n",
      "Train Recall150:\n",
      "0.15661827000749048\n",
      "Validation Recall150:\n",
      "0.036890075299181146\n",
      "Epoch 16\n",
      "-------------------------------\n",
      "tensor(2.1063, device='cuda:0', grad_fn=<MulBackward0>)\n",
      "Train Recall150:\n",
      "0.16933492354384472\n",
      "Validation Recall150:\n",
      "0.0386019845760374\n",
      "Epoch 17\n",
      "-------------------------------\n",
      "tensor(0.8846, device='cuda:0', grad_fn=<MulBackward0>)\n",
      "Train Recall150:\n",
      "0.19425890286662875\n",
      "Validation Recall150:\n",
      "0.039650554219711094\n",
      "Epoch 18\n",
      "-------------------------------\n",
      "tensor(0.4314, device='cuda:0', grad_fn=<MulBackward0>)\n",
      "Train Recall150:\n",
      "0.2102638145263017\n",
      "Validation Recall150:\n",
      "0.04297954721747033\n",
      "Epoch 19\n",
      "-------------------------------\n",
      "tensor(0.5618, device='cuda:0', grad_fn=<MulBackward0>)\n",
      "Train Recall150:\n",
      "0.23226268040159537\n",
      "Validation Recall150:\n",
      "0.04311141832318233\n",
      "Epoch 20\n",
      "-------------------------------\n",
      "tensor(0.9345, device='cuda:0', grad_fn=<MulBackward0>)\n",
      "Train Recall150:\n",
      "0.24638043015560815\n",
      "Validation Recall150:\n",
      "0.04341745408551118\n",
      "Epoch 21\n",
      "-------------------------------\n",
      "tensor(0.7722, device='cuda:0', grad_fn=<MulBackward0>)\n",
      "Train Recall150:\n",
      "0.2656999298583758\n",
      "Validation Recall150:\n",
      "0.04543416217166371\n",
      "Epoch 22\n",
      "-------------------------------\n",
      "tensor(1.5598, device='cuda:0', grad_fn=<MulBackward0>)\n",
      "Train Recall150:\n",
      "0.29306213342034765\n",
      "Validation Recall150:\n",
      "0.04772886143279659\n",
      "Epoch 23\n",
      "-------------------------------\n",
      "tensor(2.0869, device='cuda:0', grad_fn=<MulBackward0>)\n",
      "Train Recall150:\n",
      "0.31674634195246054\n",
      "Validation Recall150:\n",
      "0.050111211492161904\n",
      "Epoch 24\n",
      "-------------------------------\n",
      "tensor(1.9204, device='cuda:0', grad_fn=<MulBackward0>)\n",
      "Train Recall150:\n",
      "0.3361276823551989\n",
      "Validation Recall150:\n",
      "0.05093804032714536\n",
      "Epoch 25\n",
      "-------------------------------\n",
      "tensor(3.4474, device='cuda:0', grad_fn=<MulBackward0>)\n",
      "Train Recall150:\n",
      "0.36172678605841835\n",
      "Validation Recall150:\n",
      "0.05437262792769123\n",
      "Epoch 26\n",
      "-------------------------------\n",
      "tensor(7.5776, device='cuda:0', grad_fn=<MulBackward0>)\n",
      "Train Recall150:\n",
      "0.38509227571339427\n",
      "Validation Recall150:\n",
      "0.055758582974330895\n",
      "Epoch 27\n",
      "-------------------------------\n",
      "tensor(6.2554, device='cuda:0', grad_fn=<MulBackward0>)\n",
      "Train Recall150:\n",
      "0.4049191124660719\n",
      "Validation Recall150:\n",
      "0.059494727975034405\n",
      "Epoch 28\n",
      "-------------------------------\n",
      "tensor(6.3798, device='cuda:0', grad_fn=<MulBackward0>)\n",
      "Train Recall150:\n",
      "0.42679981496651515\n",
      "Validation Recall150:\n",
      "0.061316888931657286\n",
      "Epoch 29\n",
      "-------------------------------\n",
      "tensor(8.8113, device='cuda:0', grad_fn=<MulBackward0>)\n",
      "Train Recall150:\n",
      "0.4408280988468857\n",
      "Validation Recall150:\n",
      "0.06350886519426158\n",
      "Epoch 30\n",
      "-------------------------------\n",
      "tensor(4.8489, device='cuda:0', grad_fn=<MulBackward0>)\n",
      "Train Recall150:\n",
      "0.4542890090479309\n",
      "Validation Recall150:\n",
      "0.0647228925191183\n",
      "Epoch 31\n",
      "-------------------------------\n",
      "tensor(10.4942, device='cuda:0', grad_fn=<MulBackward0>)\n",
      "Train Recall150:\n",
      "0.4615972201964624\n",
      "Validation Recall150:\n",
      "0.06598655278995583\n",
      "Epoch 32\n",
      "-------------------------------\n",
      "tensor(11.6790, device='cuda:0', grad_fn=<MulBackward0>)\n",
      "Train Recall150:\n",
      "0.4739800405736314\n",
      "Validation Recall150:\n",
      "0.06732538656299476\n",
      "Epoch 33\n",
      "-------------------------------\n",
      "tensor(1.7351, device='cuda:0', grad_fn=<MulBackward0>)\n",
      "Train Recall150:\n",
      "0.49306903882106756\n",
      "Validation Recall150:\n",
      "0.06885115200237392\n",
      "Epoch 34\n",
      "-------------------------------\n",
      "tensor(8.2143, device='cuda:0', grad_fn=<MulBackward0>)\n",
      "Train Recall150:\n",
      "0.5067742501507134\n",
      "Validation Recall150:\n",
      "0.06925399798371061\n",
      "Epoch 35\n",
      "-------------------------------\n",
      "tensor(0.0287, device='cuda:0', grad_fn=<MulBackward0>)\n",
      "Train Recall150:\n",
      "0.5177295992873144\n",
      "Validation Recall150:\n",
      "0.0697904598401708\n",
      "Epoch 36\n",
      "-------------------------------\n",
      "tensor(0.1880, device='cuda:0', grad_fn=<MulBackward0>)\n",
      "Train Recall150:\n",
      "0.5250647712378709\n",
      "Validation Recall150:\n",
      "0.07017880744057801\n",
      "Epoch 37\n",
      "-------------------------------\n",
      "tensor(9.1336, device='cuda:0', grad_fn=<MulBackward0>)\n",
      "Train Recall150:\n",
      "0.5349884182737881\n",
      "Validation Recall150:\n",
      "0.07050374340168895\n",
      "Epoch 38\n",
      "-------------------------------\n",
      "tensor(1.4052, device='cuda:0', grad_fn=<MulBackward0>)\n",
      "Train Recall150:\n",
      "0.547547761606713\n",
      "Validation Recall150:\n",
      "0.07146438336817687\n",
      "Epoch 39\n",
      "-------------------------------\n",
      "tensor(6.6452, device='cuda:0', grad_fn=<MulBackward0>)\n",
      "Train Recall150:\n",
      "0.5568941146418107\n",
      "Validation Recall150:\n",
      "0.0726285256766735\n",
      "Epoch 40\n",
      "-------------------------------\n",
      "tensor(13.0407, device='cuda:0', grad_fn=<MulBackward0>)\n",
      "Train Recall150:\n",
      "0.5636483358427148\n",
      "Validation Recall150:\n",
      "0.07275714102268013\n",
      "Epoch 41\n",
      "-------------------------------\n",
      "tensor(2.3375, device='cuda:0', grad_fn=<MulBackward0>)\n",
      "Train Recall150:\n",
      "0.5778459741353753\n",
      "Validation Recall150:\n",
      "0.07386291555567259\n",
      "Epoch 42\n",
      "-------------------------------\n",
      "tensor(4.6557, device='cuda:0', grad_fn=<MulBackward0>)\n",
      "Train Recall150:\n",
      "0.5821463452909502\n",
      "Validation Recall150:\n",
      "0.074292272337932\n",
      "Epoch 43\n",
      "-------------------------------\n",
      "tensor(3.3253, device='cuda:0', grad_fn=<MulBackward0>)\n",
      "Train Recall150:\n",
      "0.5923057222747693\n",
      "Validation Recall150:\n",
      "0.07503286648219194\n",
      "Epoch 44\n",
      "-------------------------------\n",
      "tensor(4.8349, device='cuda:0', grad_fn=<MulBackward0>)\n",
      "Train Recall150:\n",
      "0.6000798127258973\n",
      "Validation Recall150:\n",
      "0.07526020953117242\n",
      "Epoch 45\n",
      "-------------------------------\n",
      "tensor(6.8689, device='cuda:0', grad_fn=<MulBackward0>)\n",
      "Train Recall150:\n",
      "0.606577909535977\n",
      "Validation Recall150:\n",
      "0.07636483509061917\n",
      "Done!\n"
     ]
    }
   ],
   "source": [
    "model5 = EmbeddingLayer().to(device)\n",
    "\n",
    "learning_rate = 1e-3\n",
    "optimizer5 = torch.optim.SGD(model5.parameters(), lr=learning_rate) # We prefer Adam but instructions say to use SGD for part 2.\n",
    "K5 = 5 # num_walks = 10 but bfs more likely than dfs, so set K=5 to balance. we expect num unique nodes in each walk to be ~5.\n",
    "upweight5 = 100\n",
    "\n",
    "epochs = 45\n",
    "for t in range(epochs):\n",
    "    print(f\"Epoch {t+1}\\n-------------------------------\")\n",
    "    train_loop(model5, optimizer5, random_walk_adj_mat, K5, upweight5)\n",
    "    print(f\"Train Recall150:\\n{recall150(adjacency_matrix_train, model5)}\")\n",
    "    print(f\"Validation Recall150:\\n{recall150(adjacency_matrix_val, model5)}\")\n",
    "print(\"Done!\")\n",
    "\n",
    "# Re-run, maybe # epochs was small\n",
    "# This was run 30+15=45 epochs."
   ]
  },
  {
   "cell_type": "markdown",
   "metadata": {
    "id": "MfKGvhoujQWY"
   },
   "source": [
    "Model 6:\n",
    "- learning_rate = 1e-3\n",
    "- K = 5\n",
    "- upweight = 400"
   ]
  },
  {
   "cell_type": "code",
   "execution_count": null,
   "metadata": {
    "colab": {
     "base_uri": "https://localhost:8080/"
    },
    "id": "o5a-G0ZlyIWl",
    "outputId": "954bbd84-c38c-43a3-cd9a-af217a3eb3f3"
   },
   "outputs": [
    {
     "name": "stdout",
     "output_type": "stream",
     "text": [
      "Epoch 1\n",
      "-------------------------------\n",
      "tensor(53.0327, device='cuda:0', grad_fn=<MulBackward0>)\n",
      "Train Recall150:\n",
      "0.019640935153208812\n",
      "Validation Recall150:\n",
      "0.012640035315508967\n",
      "Epoch 2\n",
      "-------------------------------\n",
      "tensor(12.3447, device='cuda:0', grad_fn=<MulBackward0>)\n",
      "Train Recall150:\n",
      "0.04578512887440081\n",
      "Validation Recall150:\n",
      "0.017284580245223415\n",
      "Epoch 3\n",
      "-------------------------------\n",
      "tensor(2.7393, device='cuda:0', grad_fn=<MulBackward0>)\n",
      "Train Recall150:\n",
      "0.10266944597330674\n",
      "Validation Recall150:\n",
      "0.02667594753397782\n",
      "Epoch 4\n",
      "-------------------------------\n",
      "tensor(2.2469, device='cuda:0', grad_fn=<MulBackward0>)\n",
      "Train Recall150:\n",
      "0.17743502973293088\n",
      "Validation Recall150:\n",
      "0.03504768360643473\n",
      "Epoch 5\n",
      "-------------------------------\n",
      "tensor(2.0267, device='cuda:0', grad_fn=<MulBackward0>)\n",
      "Train Recall150:\n",
      "0.25561497278906525\n",
      "Validation Recall150:\n",
      "0.04613507281004937\n",
      "Epoch 6\n",
      "-------------------------------\n",
      "tensor(14.3310, device='cuda:0', grad_fn=<MulBackward0>)\n",
      "Train Recall150:\n",
      "0.309116441229451\n",
      "Validation Recall150:\n",
      "0.05174400727027312\n",
      "Epoch 7\n",
      "-------------------------------\n",
      "tensor(18.1347, device='cuda:0', grad_fn=<MulBackward0>)\n",
      "Train Recall150:\n",
      "0.3429783303246216\n",
      "Validation Recall150:\n",
      "0.054536727482535505\n",
      "Epoch 8\n",
      "-------------------------------\n",
      "tensor(11.5897, device='cuda:0', grad_fn=<MulBackward0>)\n",
      "Train Recall150:\n",
      "0.3892036749667744\n",
      "Validation Recall150:\n",
      "0.056230251659838616\n",
      "Epoch 9\n",
      "-------------------------------\n",
      "tensor(15.6853, device='cuda:0', grad_fn=<MulBackward0>)\n",
      "Train Recall150:\n",
      "0.40592518343526174\n",
      "Validation Recall150:\n",
      "0.056648891392951956\n",
      "Epoch 10\n",
      "-------------------------------\n",
      "tensor(11.1716, device='cuda:0', grad_fn=<MulBackward0>)\n",
      "Train Recall150:\n",
      "0.414695636698538\n",
      "Validation Recall150:\n",
      "0.05838353342660514\n",
      "Epoch 11\n",
      "-------------------------------\n",
      "tensor(4.7927, device='cuda:0', grad_fn=<MulBackward0>)\n",
      "Train Recall150:\n",
      "0.4263427576790256\n",
      "Validation Recall150:\n",
      "0.05822214938877718\n",
      "Epoch 12\n",
      "-------------------------------\n",
      "tensor(5.4960, device='cuda:0', grad_fn=<MulBackward0>)\n",
      "Train Recall150:\n",
      "0.42995214454454167\n",
      "Validation Recall150:\n",
      "0.0609369871537377\n",
      "Epoch 13\n",
      "-------------------------------\n",
      "tensor(4.4944, device='cuda:0', grad_fn=<MulBackward0>)\n",
      "Train Recall150:\n",
      "0.4333193640395305\n",
      "Validation Recall150:\n",
      "0.05616522966579755\n",
      "Epoch 14\n",
      "-------------------------------\n",
      "tensor(12.2173, device='cuda:0', grad_fn=<MulBackward0>)\n",
      "Train Recall150:\n",
      "0.44366914577510036\n",
      "Validation Recall150:\n",
      "0.056354360000832576\n",
      "Epoch 15\n",
      "-------------------------------\n",
      "tensor(32.2120, device='cuda:0', grad_fn=<MulBackward0>)\n",
      "Train Recall150:\n",
      "0.457560939752319\n",
      "Validation Recall150:\n",
      "0.0558473122423223\n",
      "Epoch 16\n",
      "-------------------------------\n",
      "tensor(22.8805, device='cuda:0', grad_fn=<MulBackward0>)\n",
      "Train Recall150:\n",
      "0.46334910838661164\n",
      "Validation Recall150:\n",
      "0.05728522752146366\n",
      "Epoch 17\n",
      "-------------------------------\n",
      "tensor(0.6546, device='cuda:0', grad_fn=<MulBackward0>)\n",
      "Train Recall150:\n",
      "0.47504591666733276\n",
      "Validation Recall150:\n",
      "0.05880283142979893\n",
      "Epoch 18\n",
      "-------------------------------\n",
      "tensor(19.2556, device='cuda:0', grad_fn=<MulBackward0>)\n",
      "Train Recall150:\n",
      "0.48741814485312107\n",
      "Validation Recall150:\n",
      "0.05936821512018262\n",
      "Epoch 19\n",
      "-------------------------------\n",
      "tensor(9.4426, device='cuda:0', grad_fn=<MulBackward0>)\n",
      "Train Recall150:\n",
      "0.4965289139009253\n",
      "Validation Recall150:\n",
      "0.06142344296515507\n",
      "Epoch 20\n",
      "-------------------------------\n",
      "tensor(27.1458, device='cuda:0', grad_fn=<MulBackward0>)\n",
      "Train Recall150:\n",
      "0.5050956060634281\n",
      "Validation Recall150:\n",
      "0.06160304174152805\n",
      "Epoch 21\n",
      "-------------------------------\n",
      "tensor(14.8440, device='cuda:0', grad_fn=<MulBackward0>)\n",
      "Train Recall150:\n",
      "0.5127694387788244\n",
      "Validation Recall150:\n",
      "0.061628066766553066\n",
      "Epoch 22\n",
      "-------------------------------\n",
      "tensor(16.1452, device='cuda:0', grad_fn=<MulBackward0>)\n",
      "Train Recall150:\n",
      "0.522345429715134\n",
      "Validation Recall150:\n",
      "0.06179371593220223\n",
      "Epoch 23\n",
      "-------------------------------\n",
      "tensor(8.5702, device='cuda:0', grad_fn=<MulBackward0>)\n",
      "Train Recall150:\n",
      "0.5295702703324555\n",
      "Validation Recall150:\n",
      "0.06180997720663344\n",
      "Epoch 24\n",
      "-------------------------------\n",
      "tensor(10.9352, device='cuda:0', grad_fn=<MulBackward0>)\n",
      "Train Recall150:\n",
      "0.5341526491345987\n",
      "Validation Recall150:\n",
      "0.061886173194287755\n",
      "Epoch 25\n",
      "-------------------------------\n",
      "tensor(40.1415, device='cuda:0', grad_fn=<MulBackward0>)\n",
      "Train Recall150:\n",
      "0.539538324524269\n",
      "Validation Recall150:\n",
      "0.06268479757360448\n",
      "Epoch 26\n",
      "-------------------------------\n",
      "tensor(44.8774, device='cuda:0', grad_fn=<MulBackward0>)\n",
      "Train Recall150:\n",
      "0.5470697451021403\n",
      "Validation Recall150:\n",
      "0.06318233242510826\n",
      "Epoch 27\n",
      "-------------------------------\n",
      "tensor(25.5585, device='cuda:0', grad_fn=<MulBackward0>)\n",
      "Train Recall150:\n",
      "0.5510067863809992\n",
      "Validation Recall150:\n",
      "0.0634748868843294\n",
      "Epoch 28\n",
      "-------------------------------\n",
      "tensor(9.2844, device='cuda:0', grad_fn=<MulBackward0>)\n",
      "Train Recall150:\n",
      "0.5597233148090638\n",
      "Validation Recall150:\n",
      "0.0633864567958993\n",
      "Epoch 29\n",
      "-------------------------------\n",
      "tensor(5.3581, device='cuda:0', grad_fn=<MulBackward0>)\n",
      "Train Recall150:\n",
      "0.5656812051904387\n",
      "Validation Recall150:\n",
      "0.0639362800546166\n",
      "Epoch 30\n",
      "-------------------------------\n",
      "tensor(21.7282, device='cuda:0', grad_fn=<MulBackward0>)\n",
      "Train Recall150:\n",
      "0.5721658220665469\n",
      "Validation Recall150:\n",
      "0.06660084956377554\n",
      "Done!\n"
     ]
    }
   ],
   "source": [
    "model6 = EmbeddingLayer().to(device)\n",
    "\n",
    "learning_rate = 1e-3\n",
    "optimizer6 = torch.optim.SGD(model6.parameters(), lr=learning_rate) # We prefer Adam but instructions say to use SGD for part 2.\n",
    "K6 = 5 # num_walks = 10 but bfs more likely than dfs, so set K=5 to balance. we expect num unique nodes in each walk to be ~5.\n",
    "upweight6 = 400\n",
    "\n",
    "epochs = 30\n",
    "for t in range(epochs):\n",
    "    print(f\"Epoch {t+1}\\n-------------------------------\")\n",
    "    train_loop(model6, optimizer6, random_walk_adj_mat, K6, upweight6)\n",
    "    print(f\"Train Recall150:\\n{recall150(adjacency_matrix_train, model6)}\")\n",
    "    print(f\"Validation Recall150:\\n{recall150(adjacency_matrix_val, model6)}\")\n",
    "print(\"Done!\")"
   ]
  },
  {
   "cell_type": "markdown",
   "metadata": {
    "id": "0xt3uLHz_xaZ"
   },
   "source": [
    "## Model Type 3\n",
    "p = 1\n",
    "\n",
    "q = 3\n",
    "\n",
    "num_walks = 20\n",
    "\n",
    "num_steps = 2"
   ]
  },
  {
   "cell_type": "markdown",
   "metadata": {
    "id": "2PRZWmIhjowR"
   },
   "source": [
    "### Simulate new walks \n",
    "Simulate walks given new parameters"
   ]
  },
  {
   "cell_type": "code",
   "execution_count": null,
   "metadata": {
    "id": "md_-j-jH_wkJ"
   },
   "outputs": [],
   "source": [
    "p = 1\n",
    "q = 3\n",
    "num_walks = 20\n",
    "num_steps = 2\n",
    "cache = simulate_walks(num_walks, num_steps, p, q)"
   ]
  },
  {
   "cell_type": "markdown",
   "metadata": {
    "id": "-R5EZz06jlRY"
   },
   "source": [
    "### Construct new adjacency matrix from newly simulated walks"
   ]
  },
  {
   "cell_type": "code",
   "execution_count": null,
   "metadata": {
    "id": "raj3UhAk_7Rm"
   },
   "outputs": [],
   "source": [
    "random_walk_adj_mat = construct_adj_mat(cache, num_walks)"
   ]
  },
  {
   "cell_type": "markdown",
   "metadata": {
    "id": "oy4bvd8sj0r1"
   },
   "source": [
    "Model 7: \n",
    "- learning_rate = 1e-3\n",
    "- K = 5\n",
    "- upweight = 200"
   ]
  },
  {
   "cell_type": "code",
   "execution_count": null,
   "metadata": {
    "colab": {
     "base_uri": "https://localhost:8080/"
    },
    "id": "ypncWESB_4J1",
    "outputId": "154bab1e-4503-4d5d-d405-e1f5e295cb6a"
   },
   "outputs": [
    {
     "name": "stdout",
     "output_type": "stream",
     "text": [
      "Epoch 1\n",
      "-------------------------------\n",
      "tensor(48.6338, device='cuda:0', grad_fn=<MulBackward0>)\n",
      "Train Recall150:\n",
      "0.013754556051282271\n",
      "Validation Recall150:\n",
      "0.012050598250403818\n",
      "Epoch 2\n",
      "-------------------------------\n",
      "tensor(45.8796, device='cuda:0', grad_fn=<MulBackward0>)\n",
      "Train Recall150:\n",
      "0.025229244982661596\n",
      "Validation Recall150:\n",
      "0.012275480807054234\n",
      "Epoch 3\n",
      "-------------------------------\n",
      "tensor(42.3036, device='cuda:0', grad_fn=<MulBackward0>)\n",
      "Train Recall150:\n",
      "0.046111898431915384\n",
      "Validation Recall150:\n",
      "0.01751374818953083\n",
      "Epoch 4\n",
      "-------------------------------\n",
      "tensor(35.7005, device='cuda:0', grad_fn=<MulBackward0>)\n",
      "Train Recall150:\n",
      "0.07482766229438896\n",
      "Validation Recall150:\n",
      "0.024955647683810582\n",
      "Epoch 5\n",
      "-------------------------------\n",
      "tensor(28.3742, device='cuda:0', grad_fn=<MulBackward0>)\n",
      "Train Recall150:\n",
      "0.10390821761763924\n",
      "Validation Recall150:\n",
      "0.03308158516679714\n",
      "Epoch 6\n",
      "-------------------------------\n",
      "tensor(18.3202, device='cuda:0', grad_fn=<MulBackward0>)\n",
      "Train Recall150:\n",
      "0.14541504305828695\n",
      "Validation Recall150:\n",
      "0.039203949773335814\n",
      "Epoch 7\n",
      "-------------------------------\n",
      "tensor(8.1479, device='cuda:0', grad_fn=<MulBackward0>)\n",
      "Train Recall150:\n",
      "0.19447662652330416\n",
      "Validation Recall150:\n",
      "0.046223433520293525\n",
      "Epoch 8\n",
      "-------------------------------\n",
      "tensor(3.4270, device='cuda:0', grad_fn=<MulBackward0>)\n",
      "Train Recall150:\n",
      "0.24603873557140335\n",
      "Validation Recall150:\n",
      "0.05004999386826088\n",
      "Epoch 9\n",
      "-------------------------------\n",
      "tensor(0.8502, device='cuda:0', grad_fn=<MulBackward0>)\n",
      "Train Recall150:\n",
      "0.28755547752221844\n",
      "Validation Recall150:\n",
      "0.0538817528830921\n",
      "Epoch 10\n",
      "-------------------------------\n",
      "tensor(1.0141, device='cuda:0', grad_fn=<MulBackward0>)\n",
      "Train Recall150:\n",
      "0.3345600427336336\n",
      "Validation Recall150:\n",
      "0.056907383874557786\n",
      "Epoch 11\n",
      "-------------------------------\n",
      "tensor(4.9337, device='cuda:0', grad_fn=<MulBackward0>)\n",
      "Train Recall150:\n",
      "0.37372205912856804\n",
      "Validation Recall150:\n",
      "0.06083145910477254\n",
      "Epoch 12\n",
      "-------------------------------\n",
      "tensor(1.0888, device='cuda:0', grad_fn=<MulBackward0>)\n",
      "Train Recall150:\n",
      "0.40673734782539744\n",
      "Validation Recall150:\n",
      "0.063268925173339\n",
      "Epoch 13\n",
      "-------------------------------\n",
      "tensor(3.1213, device='cuda:0', grad_fn=<MulBackward0>)\n",
      "Train Recall150:\n",
      "0.4552073185992183\n",
      "Validation Recall150:\n",
      "0.06541386311964505\n",
      "Epoch 14\n",
      "-------------------------------\n",
      "tensor(3.0358, device='cuda:0', grad_fn=<MulBackward0>)\n",
      "Train Recall150:\n",
      "0.49049461713571896\n",
      "Validation Recall150:\n",
      "0.0674737327542479\n",
      "Epoch 15\n",
      "-------------------------------\n",
      "tensor(13.9485, device='cuda:0', grad_fn=<MulBackward0>)\n",
      "Train Recall150:\n",
      "0.5101535496209597\n",
      "Validation Recall150:\n",
      "0.0723180286606159\n",
      "Epoch 16\n",
      "-------------------------------\n",
      "tensor(12.7914, device='cuda:0', grad_fn=<MulBackward0>)\n",
      "Train Recall150:\n",
      "0.538432567322675\n",
      "Validation Recall150:\n",
      "0.0758253853231859\n",
      "Epoch 17\n",
      "-------------------------------\n",
      "tensor(6.6619, device='cuda:0', grad_fn=<MulBackward0>)\n",
      "Train Recall150:\n",
      "0.557495209009262\n",
      "Validation Recall150:\n",
      "0.07857873801094736\n",
      "Epoch 18\n",
      "-------------------------------\n",
      "tensor(21.8070, device='cuda:0', grad_fn=<MulBackward0>)\n",
      "Train Recall150:\n",
      "0.5776728940581435\n",
      "Validation Recall150:\n",
      "0.08007977438630583\n",
      "Epoch 19\n",
      "-------------------------------\n",
      "tensor(1.8338, device='cuda:0', grad_fn=<MulBackward0>)\n",
      "Train Recall150:\n",
      "0.5979267883872588\n",
      "Validation Recall150:\n",
      "0.08330644295875726\n",
      "Epoch 20\n",
      "-------------------------------\n",
      "tensor(2.9534, device='cuda:0', grad_fn=<MulBackward0>)\n",
      "Train Recall150:\n",
      "0.6233090892975579\n",
      "Validation Recall150:\n",
      "0.08632144683974677\n",
      "Epoch 21\n",
      "-------------------------------\n",
      "tensor(3.5895, device='cuda:0', grad_fn=<MulBackward0>)\n",
      "Train Recall150:\n",
      "0.6369168178032857\n",
      "Validation Recall150:\n",
      "0.08755360188832341\n",
      "Epoch 22\n",
      "-------------------------------\n",
      "tensor(10.9122, device='cuda:0', grad_fn=<MulBackward0>)\n",
      "Train Recall150:\n",
      "0.6509583702521098\n",
      "Validation Recall150:\n",
      "0.0878967035482388\n",
      "Epoch 23\n",
      "-------------------------------\n",
      "tensor(19.7705, device='cuda:0', grad_fn=<MulBackward0>)\n",
      "Train Recall150:\n",
      "0.6590359166212838\n",
      "Validation Recall150:\n",
      "0.08826919989480664\n",
      "Epoch 24\n",
      "-------------------------------\n",
      "tensor(7.9009, device='cuda:0', grad_fn=<MulBackward0>)\n",
      "Train Recall150:\n",
      "0.6718627634009974\n",
      "Validation Recall150:\n",
      "0.08903571874990447\n",
      "Epoch 25\n",
      "-------------------------------\n",
      "tensor(0.0027, device='cuda:0', grad_fn=<MulBackward0>)\n",
      "Train Recall150:\n",
      "0.679809102721039\n",
      "Validation Recall150:\n",
      "0.08893001656918155\n",
      "Epoch 26\n",
      "-------------------------------\n",
      "tensor(9.0794, device='cuda:0', grad_fn=<MulBackward0>)\n",
      "Train Recall150:\n",
      "0.6891567216983067\n",
      "Validation Recall150:\n",
      "0.09160520479120834\n",
      "Epoch 27\n",
      "-------------------------------\n",
      "tensor(4.4118, device='cuda:0', grad_fn=<MulBackward0>)\n",
      "Train Recall150:\n",
      "0.6995007196765726\n",
      "Validation Recall150:\n",
      "0.09215275162907773\n",
      "Epoch 28\n",
      "-------------------------------\n",
      "tensor(24.7897, device='cuda:0', grad_fn=<MulBackward0>)\n",
      "Train Recall150:\n",
      "0.7052936304161385\n",
      "Validation Recall150:\n",
      "0.09307717801934266\n",
      "Epoch 29\n",
      "-------------------------------\n",
      "tensor(12.9621, device='cuda:0', grad_fn=<MulBackward0>)\n",
      "Train Recall150:\n",
      "0.7131043417134483\n",
      "Validation Recall150:\n",
      "0.09428209801308253\n",
      "Epoch 30\n",
      "-------------------------------\n",
      "tensor(0.5109, device='cuda:0', grad_fn=<MulBackward0>)\n",
      "Train Recall150:\n",
      "0.7190401573899674\n",
      "Validation Recall150:\n",
      "0.09490736212518874\n",
      "Done!\n"
     ]
    }
   ],
   "source": [
    "model7 = EmbeddingLayer().to(device)\n",
    "\n",
    "learning_rate = 1e-3\n",
    "optimizer7 = torch.optim.SGD(model7.parameters(), lr=learning_rate) # We prefer Adam but instructions say to use SGD for part 2.\n",
    "K7 = 5 # num_walks = 10 but bfs more likely than dfs, so set K=5 to balance. we expect num unique nodes in each walk to be ~5.\n",
    "upweight7 = 200\n",
    "\n",
    "epochs = 30\n",
    "for t in range(epochs):\n",
    "    print(f\"Epoch {t+1}\\n-------------------------------\")\n",
    "    train_loop(model7, optimizer7, random_walk_adj_mat, K7, upweight7)\n",
    "    print(f\"Train Recall150:\\n{recall150(adjacency_matrix_train, model7)}\")\n",
    "    print(f\"Validation Recall150:\\n{recall150(adjacency_matrix_val, model7)}\")\n",
    "print(\"Done!\")"
   ]
  },
  {
   "cell_type": "markdown",
   "metadata": {
    "id": "eI9iN0elkAI1"
   },
   "source": [
    "Model 8: \n",
    "- learning_rate = 1e-3\n",
    "- K = 5\n",
    "- upweight = 300"
   ]
  },
  {
   "cell_type": "code",
   "execution_count": null,
   "metadata": {
    "colab": {
     "base_uri": "https://localhost:8080/"
    },
    "id": "3TV8qU-Np4LW",
    "outputId": "b4460c90-f7b5-43f5-d2bc-a99e6bab6bab"
   },
   "outputs": [
    {
     "name": "stdout",
     "output_type": "stream",
     "text": [
      "Epoch 1\n",
      "-------------------------------\n",
      "tensor(46.9720, device='cuda:0', grad_fn=<MulBackward0>)\n",
      "Train Recall150:\n",
      "0.021985608575386274\n",
      "Validation Recall150:\n",
      "0.011617457541271954\n",
      "Epoch 2\n",
      "-------------------------------\n",
      "tensor(35.5141, device='cuda:0', grad_fn=<MulBackward0>)\n",
      "Train Recall150:\n",
      "0.04826058135514937\n",
      "Validation Recall150:\n",
      "0.020062115910343157\n",
      "Epoch 3\n",
      "-------------------------------\n",
      "tensor(21.0061, device='cuda:0', grad_fn=<MulBackward0>)\n",
      "Train Recall150:\n",
      "0.09756700589314687\n",
      "Validation Recall150:\n",
      "0.027645978490126066\n",
      "Epoch 4\n",
      "-------------------------------\n",
      "tensor(6.4385, device='cuda:0', grad_fn=<MulBackward0>)\n",
      "Train Recall150:\n",
      "0.14995824526909643\n",
      "Validation Recall150:\n",
      "0.041084087223031786\n",
      "Epoch 5\n",
      "-------------------------------\n",
      "tensor(2.4223, device='cuda:0', grad_fn=<MulBackward0>)\n",
      "Train Recall150:\n",
      "0.20053691896892123\n",
      "Validation Recall150:\n",
      "0.05252154876496808\n",
      "Epoch 6\n",
      "-------------------------------\n",
      "tensor(6.2183, device='cuda:0', grad_fn=<MulBackward0>)\n",
      "Train Recall150:\n",
      "0.2735715381848313\n",
      "Validation Recall150:\n",
      "0.06445618706815617\n",
      "Epoch 7\n",
      "-------------------------------\n",
      "tensor(17.9778, device='cuda:0', grad_fn=<MulBackward0>)\n",
      "Train Recall150:\n",
      "0.32639759707840516\n",
      "Validation Recall150:\n",
      "0.07176787646398804\n",
      "Epoch 8\n",
      "-------------------------------\n",
      "tensor(4.5435, device='cuda:0', grad_fn=<MulBackward0>)\n",
      "Train Recall150:\n",
      "0.3710009389065788\n",
      "Validation Recall150:\n",
      "0.07713352235048714\n",
      "Epoch 9\n",
      "-------------------------------\n",
      "tensor(4.3536, device='cuda:0', grad_fn=<MulBackward0>)\n",
      "Train Recall150:\n",
      "0.4192428717608623\n",
      "Validation Recall150:\n",
      "0.07991954355155696\n",
      "Epoch 10\n",
      "-------------------------------\n",
      "tensor(2.7450, device='cuda:0', grad_fn=<MulBackward0>)\n",
      "Train Recall150:\n",
      "0.45608502314607535\n",
      "Validation Recall150:\n",
      "0.08617340287065102\n",
      "Epoch 11\n",
      "-------------------------------\n",
      "tensor(7.3840, device='cuda:0', grad_fn=<MulBackward0>)\n",
      "Train Recall150:\n",
      "0.4984874900552474\n",
      "Validation Recall150:\n",
      "0.0887936190770437\n",
      "Epoch 12\n",
      "-------------------------------\n",
      "tensor(4.3285, device='cuda:0', grad_fn=<MulBackward0>)\n",
      "Train Recall150:\n",
      "0.5342453971573562\n",
      "Validation Recall150:\n",
      "0.08786978615090583\n",
      "Epoch 13\n",
      "-------------------------------\n",
      "tensor(15.7551, device='cuda:0', grad_fn=<MulBackward0>)\n",
      "Train Recall150:\n",
      "0.5589072769732961\n",
      "Validation Recall150:\n",
      "0.09353359603589925\n",
      "Epoch 14\n",
      "-------------------------------\n",
      "tensor(12.6962, device='cuda:0', grad_fn=<MulBackward0>)\n",
      "Train Recall150:\n",
      "0.5796405351506669\n",
      "Validation Recall150:\n",
      "0.0934163251241419\n",
      "Epoch 15\n",
      "-------------------------------\n",
      "tensor(10.5006, device='cuda:0', grad_fn=<MulBackward0>)\n",
      "Train Recall150:\n",
      "0.6034174114749454\n",
      "Validation Recall150:\n",
      "0.09607026802825731\n",
      "Epoch 16\n",
      "-------------------------------\n",
      "tensor(9.1155, device='cuda:0', grad_fn=<MulBackward0>)\n",
      "Train Recall150:\n",
      "0.6232477410450763\n",
      "Validation Recall150:\n",
      "0.0988229625889876\n",
      "Epoch 17\n",
      "-------------------------------\n",
      "tensor(20.4955, device='cuda:0', grad_fn=<MulBackward0>)\n",
      "Train Recall150:\n",
      "0.640465340124131\n",
      "Validation Recall150:\n",
      "0.09938767376087618\n",
      "Epoch 18\n",
      "-------------------------------\n",
      "tensor(-0., device='cuda:0', grad_fn=<MulBackward0>)\n",
      "Train Recall150:\n",
      "0.6530852933839191\n",
      "Validation Recall150:\n",
      "0.10052621471460309\n",
      "Epoch 19\n",
      "-------------------------------\n",
      "tensor(12.0947, device='cuda:0', grad_fn=<MulBackward0>)\n",
      "Train Recall150:\n",
      "0.6665533087481555\n",
      "Validation Recall150:\n",
      "0.10126609789595782\n",
      "Epoch 20\n",
      "-------------------------------\n",
      "tensor(18.7904, device='cuda:0', grad_fn=<MulBackward0>)\n",
      "Train Recall150:\n",
      "0.6759684649563631\n",
      "Validation Recall150:\n",
      "0.10211064245800798\n",
      "Epoch 21\n",
      "-------------------------------\n",
      "tensor(1.0801, device='cuda:0', grad_fn=<MulBackward0>)\n",
      "Train Recall150:\n",
      "0.6850664125911424\n",
      "Validation Recall150:\n",
      "0.10448282997256748\n",
      "Epoch 22\n",
      "-------------------------------\n",
      "tensor(11.8266, device='cuda:0', grad_fn=<MulBackward0>)\n",
      "Train Recall150:\n",
      "0.6949658756847253\n",
      "Validation Recall150:\n",
      "0.10471049157146654\n",
      "Epoch 23\n",
      "-------------------------------\n",
      "tensor(0.8031, device='cuda:0', grad_fn=<MulBackward0>)\n",
      "Train Recall150:\n",
      "0.7019817930327344\n",
      "Validation Recall150:\n",
      "0.10508541765690718\n",
      "Epoch 24\n",
      "-------------------------------\n",
      "tensor(14.4036, device='cuda:0', grad_fn=<MulBackward0>)\n",
      "Train Recall150:\n",
      "0.7110359072214071\n",
      "Validation Recall150:\n",
      "0.10519910382828566\n",
      "Epoch 25\n",
      "-------------------------------\n",
      "tensor(6.3792, device='cuda:0', grad_fn=<MulBackward0>)\n",
      "Train Recall150:\n",
      "0.7195814369410858\n",
      "Validation Recall150:\n",
      "0.10507330211040132\n",
      "Epoch 26\n",
      "-------------------------------\n",
      "tensor(2.6116, device='cuda:0', grad_fn=<MulBackward0>)\n",
      "Train Recall150:\n",
      "0.7301430266525957\n",
      "Validation Recall150:\n",
      "0.1058701073943861\n",
      "Epoch 27\n",
      "-------------------------------\n",
      "tensor(8.3410, device='cuda:0', grad_fn=<MulBackward0>)\n",
      "Train Recall150:\n",
      "0.7359413207101662\n",
      "Validation Recall150:\n",
      "0.10586825739253608\n",
      "Epoch 28\n",
      "-------------------------------\n",
      "tensor(1.7163, device='cuda:0', grad_fn=<MulBackward0>)\n",
      "Train Recall150:\n",
      "0.7416450615784105\n",
      "Validation Recall150:\n",
      "0.10594336364088086\n",
      "Epoch 29\n",
      "-------------------------------\n",
      "tensor(18.1415, device='cuda:0', grad_fn=<MulBackward0>)\n",
      "Train Recall150:\n",
      "0.7469105313466732\n",
      "Validation Recall150:\n",
      "0.10736447339532394\n",
      "Epoch 30\n",
      "-------------------------------\n",
      "tensor(7.4008, device='cuda:0', grad_fn=<MulBackward0>)\n",
      "Train Recall150:\n",
      "0.7509846553188372\n",
      "Validation Recall150:\n",
      "0.10734456576672066\n",
      "Done!\n"
     ]
    }
   ],
   "source": [
    "model8 = EmbeddingLayer().to(device)\n",
    "\n",
    "learning_rate = 1e-3\n",
    "optimizer8 = torch.optim.SGD(model8.parameters(), lr=learning_rate) # We prefer Adam but instructions say to use SGD for part 2.\n",
    "K8 = 5 # num_walks = 10 but bfs more likely than dfs, so set K=5 to balance. we expect num unique nodes in each walk to be ~5.\n",
    "upweight8 = 300\n",
    "\n",
    "epochs = 30\n",
    "for t in range(epochs):\n",
    "    print(f\"Epoch {t+1}\\n-------------------------------\")\n",
    "    train_loop(model8, optimizer8, random_walk_adj_mat, K8, upweight8)\n",
    "    print(f\"Train Recall150:\\n{recall150(adjacency_matrix_train, model8)}\")\n",
    "    print(f\"Validation Recall150:\\n{recall150(adjacency_matrix_val, model8)}\")\n",
    "print(\"Done!\")"
   ]
  },
  {
   "cell_type": "markdown",
   "metadata": {
    "id": "mpp80hM2kiXE"
   },
   "source": [
    "Model 9: \n",
    "- learning_rate = 1e-3\n",
    "- K = 10\n",
    "- upweight = 200"
   ]
  },
  {
   "cell_type": "code",
   "execution_count": null,
   "metadata": {
    "colab": {
     "base_uri": "https://localhost:8080/"
    },
    "id": "icol4NOvqLsz",
    "outputId": "7f539827-7057-40be-9509-3842338bf934"
   },
   "outputs": [
    {
     "name": "stdout",
     "output_type": "stream",
     "text": [
      "Epoch 1\n",
      "-------------------------------\n",
      "tensor(40.7949, device='cuda:0', grad_fn=<MulBackward0>)\n",
      "Train Recall150:\n",
      "0.012479108101009594\n",
      "Validation Recall150:\n",
      "0.017760384224497192\n",
      "Epoch 2\n",
      "-------------------------------\n",
      "tensor(36.4532, device='cuda:0', grad_fn=<MulBackward0>)\n",
      "Train Recall150:\n",
      "0.01990681550026628\n",
      "Validation Recall150:\n",
      "0.018504528301754905\n",
      "Epoch 3\n",
      "-------------------------------\n",
      "tensor(30.1059, device='cuda:0', grad_fn=<MulBackward0>)\n",
      "Train Recall150:\n",
      "0.03322694054595516\n",
      "Validation Recall150:\n",
      "0.02145940983233093\n",
      "Epoch 4\n",
      "-------------------------------\n",
      "tensor(20.8061, device='cuda:0', grad_fn=<MulBackward0>)\n",
      "Train Recall150:\n",
      "0.0604136064081355\n",
      "Validation Recall150:\n",
      "0.024730918212162875\n",
      "Epoch 5\n",
      "-------------------------------\n",
      "tensor(11.6288, device='cuda:0', grad_fn=<MulBackward0>)\n",
      "Train Recall150:\n",
      "0.10023894724314654\n",
      "Validation Recall150:\n",
      "0.031843333258280884\n",
      "Epoch 6\n",
      "-------------------------------\n",
      "tensor(6.3975, device='cuda:0', grad_fn=<MulBackward0>)\n",
      "Train Recall150:\n",
      "0.14464331103761488\n",
      "Validation Recall150:\n",
      "0.039348401678509816\n",
      "Epoch 7\n",
      "-------------------------------\n",
      "tensor(3.5409, device='cuda:0', grad_fn=<MulBackward0>)\n",
      "Train Recall150:\n",
      "0.19068220667757482\n",
      "Validation Recall150:\n",
      "0.040940172736407494\n",
      "Epoch 8\n",
      "-------------------------------\n",
      "tensor(1.9481, device='cuda:0', grad_fn=<MulBackward0>)\n",
      "Train Recall150:\n",
      "0.2304357662206269\n",
      "Validation Recall150:\n",
      "0.04851577170368348\n",
      "Epoch 9\n",
      "-------------------------------\n",
      "tensor(6.4582, device='cuda:0', grad_fn=<MulBackward0>)\n",
      "Train Recall150:\n",
      "0.2647446333119658\n",
      "Validation Recall150:\n",
      "0.05380595945471897\n",
      "Epoch 10\n",
      "-------------------------------\n",
      "tensor(9.3995, device='cuda:0', grad_fn=<MulBackward0>)\n",
      "Train Recall150:\n",
      "0.2945331841479463\n",
      "Validation Recall150:\n",
      "0.05772611594643839\n",
      "Epoch 11\n",
      "-------------------------------\n",
      "tensor(7.3139, device='cuda:0', grad_fn=<MulBackward0>)\n",
      "Train Recall150:\n",
      "0.3387050333197953\n",
      "Validation Recall150:\n",
      "0.06023332156256829\n",
      "Epoch 12\n",
      "-------------------------------\n",
      "tensor(21.8498, device='cuda:0', grad_fn=<MulBackward0>)\n",
      "Train Recall150:\n",
      "0.36757169608387535\n",
      "Validation Recall150:\n",
      "0.06284583870424264\n",
      "Epoch 13\n",
      "-------------------------------\n",
      "tensor(11.0778, device='cuda:0', grad_fn=<MulBackward0>)\n",
      "Train Recall150:\n",
      "0.4005203028686353\n",
      "Validation Recall150:\n",
      "0.06343644237742549\n",
      "Epoch 14\n",
      "-------------------------------\n",
      "tensor(13.8114, device='cuda:0', grad_fn=<MulBackward0>)\n",
      "Train Recall150:\n",
      "0.4228101462962851\n",
      "Validation Recall150:\n",
      "0.06772685863477147\n",
      "Epoch 15\n",
      "-------------------------------\n",
      "tensor(27.9119, device='cuda:0', grad_fn=<MulBackward0>)\n",
      "Train Recall150:\n",
      "0.4527646921304642\n",
      "Validation Recall150:\n",
      "0.06972532483644571\n",
      "Epoch 16\n",
      "-------------------------------\n",
      "tensor(27.9291, device='cuda:0', grad_fn=<MulBackward0>)\n",
      "Train Recall150:\n",
      "0.47995038876624574\n",
      "Validation Recall150:\n",
      "0.07234768043883508\n",
      "Epoch 17\n",
      "-------------------------------\n",
      "tensor(22.6511, device='cuda:0', grad_fn=<MulBackward0>)\n",
      "Train Recall150:\n",
      "0.5166482741837314\n",
      "Validation Recall150:\n",
      "0.07354018831619868\n",
      "Epoch 18\n",
      "-------------------------------\n",
      "tensor(4.7403, device='cuda:0', grad_fn=<MulBackward0>)\n",
      "Train Recall150:\n",
      "0.5468969507483991\n",
      "Validation Recall150:\n",
      "0.07596089181467595\n",
      "Epoch 19\n",
      "-------------------------------\n",
      "tensor(16.8255, device='cuda:0', grad_fn=<MulBackward0>)\n",
      "Train Recall150:\n",
      "0.5654195306312285\n",
      "Validation Recall150:\n",
      "0.07602389048651205\n",
      "Epoch 20\n",
      "-------------------------------\n",
      "tensor(38.9567, device='cuda:0', grad_fn=<MulBackward0>)\n",
      "Train Recall150:\n",
      "0.5802104768842522\n",
      "Validation Recall150:\n",
      "0.07806531316554353\n",
      "Epoch 21\n",
      "-------------------------------\n",
      "tensor(12.8944, device='cuda:0', grad_fn=<MulBackward0>)\n",
      "Train Recall150:\n",
      "0.5971487240506378\n",
      "Validation Recall150:\n",
      "0.07636948272763361\n",
      "Epoch 22\n",
      "-------------------------------\n",
      "tensor(27.8183, device='cuda:0', grad_fn=<MulBackward0>)\n",
      "Train Recall150:\n",
      "0.6119683965421577\n",
      "Validation Recall150:\n",
      "0.07735165042129012\n",
      "Epoch 23\n",
      "-------------------------------\n",
      "tensor(19.4829, device='cuda:0', grad_fn=<MulBackward0>)\n",
      "Train Recall150:\n",
      "0.6219333347960985\n",
      "Validation Recall150:\n",
      "0.07942831646147527\n",
      "Epoch 24\n",
      "-------------------------------\n",
      "tensor(15.9453, device='cuda:0', grad_fn=<MulBackward0>)\n",
      "Train Recall150:\n",
      "0.6328019137556531\n",
      "Validation Recall150:\n",
      "0.08042124695691244\n",
      "Epoch 25\n",
      "-------------------------------\n",
      "tensor(9.6033, device='cuda:0', grad_fn=<MulBackward0>)\n",
      "Train Recall150:\n",
      "0.6494365691466877\n",
      "Validation Recall150:\n",
      "0.08137344189155894\n",
      "Epoch 26\n",
      "-------------------------------\n",
      "tensor(8.7206, device='cuda:0', grad_fn=<MulBackward0>)\n",
      "Train Recall150:\n",
      "0.6593219009911134\n",
      "Validation Recall150:\n",
      "0.08240094315802882\n",
      "Epoch 27\n",
      "-------------------------------\n",
      "tensor(26.7179, device='cuda:0', grad_fn=<MulBackward0>)\n",
      "Train Recall150:\n",
      "0.6684266906320673\n",
      "Validation Recall150:\n",
      "0.08094735353894088\n",
      "Epoch 28\n",
      "-------------------------------\n",
      "tensor(32.9838, device='cuda:0', grad_fn=<MulBackward0>)\n",
      "Train Recall150:\n",
      "0.676478117473134\n",
      "Validation Recall150:\n",
      "0.08178027899834661\n",
      "Epoch 29\n",
      "-------------------------------\n",
      "tensor(22.5412, device='cuda:0', grad_fn=<MulBackward0>)\n",
      "Train Recall150:\n",
      "0.6819484203799238\n",
      "Validation Recall150:\n",
      "0.08203462239460907\n",
      "Epoch 30\n",
      "-------------------------------\n",
      "tensor(23.0109, device='cuda:0', grad_fn=<MulBackward0>)\n",
      "Train Recall150:\n",
      "0.6884948477014222\n",
      "Validation Recall150:\n",
      "0.08330073395255144\n",
      "Done!\n"
     ]
    }
   ],
   "source": [
    "model9 = EmbeddingLayer().to(device)\n",
    "\n",
    "learning_rate = 1e-3\n",
    "optimizer9 = torch.optim.SGD(model9.parameters(), lr=learning_rate) # We prefer Adam but instructions say to use SGD for part 2.\n",
    "K9 = 10 # num_walks = 10 but bfs more likely than dfs, so set K=5 to balance. we expect num unique nodes in each walk to be ~5.\n",
    "upweight9 = 200\n",
    "\n",
    "epochs = 30\n",
    "for t in range(epochs):\n",
    "    print(f\"Epoch {t+1}\\n-------------------------------\")\n",
    "    train_loop(model9, optimizer9, random_walk_adj_mat, K9, upweight9)\n",
    "    print(f\"Train Recall150:\\n{recall150(adjacency_matrix_train, model9)}\")\n",
    "    print(f\"Validation Recall150:\\n{recall150(adjacency_matrix_val, model9)}\")\n",
    "print(\"Done!\")"
   ]
  },
  {
   "cell_type": "markdown",
   "metadata": {
    "id": "pQlfMGdaknOG"
   },
   "source": [
    "Model 10: \n",
    "- learning_rate = 1e-3\n",
    "- K = 10\n",
    "- upweight = 300"
   ]
  },
  {
   "cell_type": "code",
   "execution_count": null,
   "metadata": {
    "colab": {
     "base_uri": "https://localhost:8080/"
    },
    "id": "pzX3fXUbqgE6",
    "outputId": "7fe9242e-22f4-4e5e-9057-8d33ff8a0980"
   },
   "outputs": [
    {
     "name": "stdout",
     "output_type": "stream",
     "text": [
      "Epoch 1\n",
      "-------------------------------\n",
      "tensor(52.0658, device='cuda:0', grad_fn=<MulBackward0>)\n",
      "Train Recall150:\n",
      "0.020543273593647958\n",
      "Validation Recall150:\n",
      "0.017306057223256316\n",
      "Epoch 2\n",
      "-------------------------------\n",
      "tensor(31.1491, device='cuda:0', grad_fn=<MulBackward0>)\n",
      "Train Recall150:\n",
      "0.04556682452724549\n",
      "Validation Recall150:\n",
      "0.023081524480345172\n",
      "Epoch 3\n",
      "-------------------------------\n",
      "tensor(11.9821, device='cuda:0', grad_fn=<MulBackward0>)\n",
      "Train Recall150:\n",
      "0.0862242628851104\n",
      "Validation Recall150:\n",
      "0.03495502710244859\n",
      "Epoch 4\n",
      "-------------------------------\n",
      "tensor(4.4194, device='cuda:0', grad_fn=<MulBackward0>)\n",
      "Train Recall150:\n",
      "0.16005871202118852\n",
      "Validation Recall150:\n",
      "0.050376570384268536\n",
      "Epoch 5\n",
      "-------------------------------\n",
      "tensor(7.8130, device='cuda:0', grad_fn=<MulBackward0>)\n",
      "Train Recall150:\n",
      "0.22817278308935438\n",
      "Validation Recall150:\n",
      "0.062326508656627796\n",
      "Epoch 6\n",
      "-------------------------------\n",
      "tensor(11.7393, device='cuda:0', grad_fn=<MulBackward0>)\n",
      "Train Recall150:\n",
      "0.28975915792159496\n",
      "Validation Recall150:\n",
      "0.0703114005963533\n",
      "Epoch 7\n",
      "-------------------------------\n",
      "tensor(12.5723, device='cuda:0', grad_fn=<MulBackward0>)\n",
      "Train Recall150:\n",
      "0.3476495768002726\n",
      "Validation Recall150:\n",
      "0.07384880320550503\n",
      "Epoch 8\n",
      "-------------------------------\n",
      "tensor(2.2667, device='cuda:0', grad_fn=<MulBackward0>)\n",
      "Train Recall150:\n",
      "0.40559041372972787\n",
      "Validation Recall150:\n",
      "0.07749080292315653\n",
      "Epoch 9\n",
      "-------------------------------\n",
      "tensor(23.2582, device='cuda:0', grad_fn=<MulBackward0>)\n",
      "Train Recall150:\n",
      "0.4506585548768076\n",
      "Validation Recall150:\n",
      "0.07901161406601871\n",
      "Epoch 10\n",
      "-------------------------------\n",
      "tensor(11.3223, device='cuda:0', grad_fn=<MulBackward0>)\n",
      "Train Recall150:\n",
      "0.4831077759184137\n",
      "Validation Recall150:\n",
      "0.0780643513907213\n",
      "Epoch 11\n",
      "-------------------------------\n",
      "tensor(1.4224, device='cuda:0', grad_fn=<MulBackward0>)\n",
      "Train Recall150:\n",
      "0.5085751471839597\n",
      "Validation Recall150:\n",
      "0.07895540149748798\n",
      "Epoch 12\n",
      "-------------------------------\n",
      "tensor(20.9807, device='cuda:0', grad_fn=<MulBackward0>)\n",
      "Train Recall150:\n",
      "0.5219980082620385\n",
      "Validation Recall150:\n",
      "0.07894903017243532\n",
      "Epoch 13\n",
      "-------------------------------\n",
      "tensor(15.6297, device='cuda:0', grad_fn=<MulBackward0>)\n",
      "Train Recall150:\n",
      "0.5428352929143491\n",
      "Validation Recall150:\n",
      "0.08199083367456521\n",
      "Epoch 14\n",
      "-------------------------------\n",
      "tensor(26.3988, device='cuda:0', grad_fn=<MulBackward0>)\n",
      "Train Recall150:\n",
      "0.5533079406854027\n",
      "Validation Recall150:\n",
      "0.08364462541829225\n",
      "Epoch 15\n",
      "-------------------------------\n",
      "tensor(35.1053, device='cuda:0', grad_fn=<MulBackward0>)\n",
      "Train Recall150:\n",
      "0.5705122948897979\n",
      "Validation Recall150:\n",
      "0.08554465631769664\n",
      "Epoch 16\n",
      "-------------------------------\n",
      "tensor(23.9730, device='cuda:0', grad_fn=<MulBackward0>)\n",
      "Train Recall150:\n",
      "0.5924152974320718\n",
      "Validation Recall150:\n",
      "0.08852866534694344\n",
      "Epoch 17\n",
      "-------------------------------\n",
      "tensor(31.6930, device='cuda:0', grad_fn=<MulBackward0>)\n",
      "Train Recall150:\n",
      "0.6041948513469221\n",
      "Validation Recall150:\n",
      "0.08983106410813338\n",
      "Epoch 18\n",
      "-------------------------------\n",
      "tensor(21.6562, device='cuda:0', grad_fn=<MulBackward0>)\n",
      "Train Recall150:\n",
      "0.6237449102720739\n",
      "Validation Recall150:\n",
      "0.09209600719618583\n",
      "Epoch 19\n",
      "-------------------------------\n",
      "tensor(15.6211, device='cuda:0', grad_fn=<MulBackward0>)\n",
      "Train Recall150:\n",
      "0.6384490393995349\n",
      "Validation Recall150:\n",
      "0.0934836205253116\n",
      "Epoch 20\n",
      "-------------------------------\n",
      "tensor(5.3064, device='cuda:0', grad_fn=<MulBackward0>)\n",
      "Train Recall150:\n",
      "0.6540531704085344\n",
      "Validation Recall150:\n",
      "0.09504136493815359\n",
      "Epoch 21\n",
      "-------------------------------\n",
      "tensor(31.2723, device='cuda:0', grad_fn=<MulBackward0>)\n",
      "Train Recall150:\n",
      "0.6673392252150862\n",
      "Validation Recall150:\n",
      "0.09364080044822505\n",
      "Epoch 22\n",
      "-------------------------------\n",
      "tensor(24.2156, device='cuda:0', grad_fn=<MulBackward0>)\n",
      "Train Recall150:\n",
      "0.676039879525363\n",
      "Validation Recall150:\n",
      "0.09428105270417414\n",
      "Epoch 23\n",
      "-------------------------------\n",
      "tensor(35.4178, device='cuda:0', grad_fn=<MulBackward0>)\n",
      "Train Recall150:\n",
      "0.6839572428173597\n",
      "Validation Recall150:\n",
      "0.09463224393765028\n",
      "Epoch 24\n",
      "-------------------------------\n",
      "tensor(21.5025, device='cuda:0', grad_fn=<MulBackward0>)\n",
      "Train Recall150:\n",
      "0.69275575841821\n",
      "Validation Recall150:\n",
      "0.09573269033221435\n",
      "Epoch 25\n",
      "-------------------------------\n",
      "tensor(6.1052, device='cuda:0', grad_fn=<MulBackward0>)\n",
      "Train Recall150:\n",
      "0.6985798609304413\n",
      "Validation Recall150:\n",
      "0.09768052427108355\n",
      "Epoch 26\n",
      "-------------------------------\n",
      "tensor(17.0457, device='cuda:0', grad_fn=<MulBackward0>)\n",
      "Train Recall150:\n",
      "0.7071530772435501\n",
      "Validation Recall150:\n",
      "0.09820808054615487\n",
      "Epoch 27\n",
      "-------------------------------\n",
      "tensor(0.0001, device='cuda:0', grad_fn=<MulBackward0>)\n",
      "Train Recall150:\n",
      "0.7136043611462194\n",
      "Validation Recall150:\n",
      "0.09877184043754833\n",
      "Epoch 28\n",
      "-------------------------------\n",
      "tensor(19.2924, device='cuda:0', grad_fn=<MulBackward0>)\n",
      "Train Recall150:\n",
      "0.7215096471681965\n",
      "Validation Recall150:\n",
      "0.10021354078034758\n",
      "Epoch 29\n",
      "-------------------------------\n",
      "tensor(0.0416, device='cuda:0', grad_fn=<MulBackward0>)\n",
      "Train Recall150:\n",
      "0.7272244284456301\n",
      "Validation Recall150:\n",
      "0.10148713331900036\n",
      "Epoch 30\n",
      "-------------------------------\n",
      "tensor(0.5399, device='cuda:0', grad_fn=<MulBackward0>)\n",
      "Train Recall150:\n",
      "0.7341272901411368\n",
      "Validation Recall150:\n",
      "0.10271358543830962\n",
      "Done!\n"
     ]
    }
   ],
   "source": [
    "model10 = EmbeddingLayer().to(device)\n",
    "\n",
    "learning_rate = 1e-3\n",
    "optimizer10 = torch.optim.SGD(model10.parameters(), lr=learning_rate) # We prefer Adam but instructions say to use SGD for part 2.\n",
    "K10 = 10 # num_walks = 10 but bfs more likely than dfs, so set K=5 to balance. we expect num unique nodes in each walk to be ~5.\n",
    "upweight10 = 300\n",
    "\n",
    "epochs = 30\n",
    "for t in range(epochs):\n",
    "    print(f\"Epoch {t+1}\\n-------------------------------\")\n",
    "    train_loop(model10, optimizer10, random_walk_adj_mat, K10, upweight10)\n",
    "    print(f\"Train Recall150:\\n{recall150(adjacency_matrix_train, model10)}\")\n",
    "    print(f\"Validation Recall150:\\n{recall150(adjacency_matrix_val, model10)}\")\n",
    "print(\"Done!\")"
   ]
  },
  {
   "cell_type": "markdown",
   "metadata": {
    "id": "Xkav-sbtlSsa"
   },
   "source": [
    "**Model 8 performs the best with respect to validation set. So, we will select it as our best model. Let's evaluate its accuracy on the test set.**"
   ]
  },
  {
   "cell_type": "code",
   "execution_count": null,
   "metadata": {
    "colab": {
     "base_uri": "https://localhost:8080/"
    },
    "id": "bRvP6Z20pj3o",
    "outputId": "409e7339-9f76-40e8-a7d3-8bef0a78f40b"
   },
   "outputs": [
    {
     "name": "stdout",
     "output_type": "stream",
     "text": [
      "Test Recall150:\n",
      "0.10424172843355602\n"
     ]
    }
   ],
   "source": [
    "print(f\"Test Recall150:\\bn{recall150(adjacency_matrix_test, model8)}\")"
   ]
  },
  {
   "cell_type": "markdown",
   "metadata": {
    "id": "hgLbUH9hlvQE"
   },
   "source": [
    "The result we have obtained matches with the prof and other students, according to Piazza posts. So, we end our hyperparameter tuning for this training approach."
   ]
  },
  {
   "cell_type": "markdown",
   "metadata": {
    "id": "JunyeBo80smA"
   },
   "source": [
    "## Training Approach #2\n",
    "We change our training strategy in an attempt to get better results than 10% on the test set. "
   ]
  },
  {
   "cell_type": "markdown",
   "metadata": {
    "id": "S_H4ykvmFIK8"
   },
   "source": [
    "Same as before"
   ]
  },
  {
   "cell_type": "code",
   "execution_count": 2,
   "metadata": {
    "id": "upBZfCWtymO8"
   },
   "outputs": [],
   "source": [
    "import pandas as pd\n",
    "import numpy as np\n",
    "import torch\n",
    "import torch.nn as nn\n",
    "from sklearn.model_selection import train_test_split"
   ]
  },
  {
   "cell_type": "markdown",
   "metadata": {
    "id": "8c0AyJHKFNuD"
   },
   "source": [
    "Same as before"
   ]
  },
  {
   "cell_type": "code",
   "execution_count": 3,
   "metadata": {
    "id": "5tkcoI-dym34"
   },
   "outputs": [],
   "source": [
    "ratings = pd.read_csv(\"http://www.cs.toronto.edu/~guerzhoy/324/movielens/ratings.csv\")\n",
    "ratings.tail()\n",
    "ratings.sort_values(by=['timestamp'], ascending=True)\n",
    "train_df, test_val_df = train_test_split(ratings, test_size=0.7)\n",
    "val_df, test_df = train_test_split(test_val_df, test_size=0.333)"
   ]
  },
  {
   "cell_type": "markdown",
   "metadata": {
    "id": "QAc2gJSkFPCO"
   },
   "source": [
    "Same as before"
   ]
  },
  {
   "cell_type": "code",
   "execution_count": 4,
   "metadata": {
    "id": "e7QpN_9i16Lg"
   },
   "outputs": [],
   "source": [
    "movieids = ratings.movieId.unique()\n",
    "movieid_to_idx = dict()\n",
    "idx_to_movieid = dict()\n",
    "for i in range(len(movieids)):\n",
    "    movieid_to_idx[movieids[i]] = i\n",
    "    idx_to_movieid[i] = movieids[i]"
   ]
  },
  {
   "cell_type": "markdown",
   "metadata": {
    "id": "4qzGTs21FQE9"
   },
   "source": [
    "Same as before"
   ]
  },
  {
   "cell_type": "code",
   "execution_count": 5,
   "metadata": {
    "id": "-I5e69EO16ge"
   },
   "outputs": [],
   "source": [
    "n_users, n_movies = ratings.nunique()['userId'], ratings.nunique()['movieId']\n",
    "\n",
    "n = n_users + n_movies\n",
    "\n",
    "d = 10\n",
    "\n",
    "device = 'cuda'"
   ]
  },
  {
   "cell_type": "markdown",
   "metadata": {
    "id": "p0j9CqXiFRcy"
   },
   "source": [
    "Same as before"
   ]
  },
  {
   "cell_type": "code",
   "execution_count": 6,
   "metadata": {
    "id": "AYq7ZyEZ17Gg"
   },
   "outputs": [],
   "source": [
    "def getmovieidx(movieid):\n",
    "    return movieid_to_idx[movieid]"
   ]
  },
  {
   "cell_type": "markdown",
   "metadata": {
    "id": "MJCJVa-9FSmW"
   },
   "source": [
    "Same as before"
   ]
  },
  {
   "cell_type": "code",
   "execution_count": 7,
   "metadata": {
    "colab": {
     "base_uri": "https://localhost:8080/"
    },
    "id": "qICW_8_217W9",
    "outputId": "dfa692ee-9b17-405f-ff35-906ba3a0539f"
   },
   "outputs": [
    {
     "name": "stderr",
     "output_type": "stream",
     "text": [
      "/usr/local/lib/python3.7/dist-packages/ipykernel_launcher.py:10: UserWarning: Boolean Series key will be reindexed to match DataFrame index.\n",
      "  # Remove the CWD from sys.path while we load stuff.\n",
      "/usr/local/lib/python3.7/dist-packages/ipykernel_launcher.py:15: UserWarning: Boolean Series key will be reindexed to match DataFrame index.\n",
      "  from ipykernel import kernelapp as app\n",
      "/usr/local/lib/python3.7/dist-packages/ipykernel_launcher.py:20: UserWarning: Boolean Series key will be reindexed to match DataFrame index.\n"
     ]
    }
   ],
   "source": [
    "shape = (n_users, n_movies)\n",
    "\n",
    "adjacency_matrix_train = torch.zeros(shape).to(device)\n",
    "adjacency_matrix_val = torch.zeros(shape).to(device)\n",
    "adjacency_matrix_test = torch.zeros(shape).to(device)\n",
    "\n",
    "unique_users = ratings.userId.unique()\n",
    "\n",
    "for user_id in unique_users:\n",
    "    users_5star_movies_train = train_df[train_df['userId']==user_id][train_df['rating']==5.0].movieId.unique()\n",
    "    x = map(getmovieidx, users_5star_movies_train)\n",
    "    users_5star_movies_train = [item for item in x]\n",
    "    adjacency_matrix_train[user_id-1][users_5star_movies_train] = 1\n",
    "\n",
    "    users_5star_movies_val = val_df[val_df['userId']==user_id][val_df['rating']==5.0].movieId.unique()\n",
    "    x = map(getmovieidx, users_5star_movies_val)\n",
    "    users_5star_movies_val = [item for item in x]\n",
    "    adjacency_matrix_val[user_id-1][users_5star_movies_val] = 1\n",
    "\n",
    "    users_5star_movies_test = test_df[test_df['userId']==user_id][test_df['rating']==5.0].movieId.unique()\n",
    "    x = map(getmovieidx, users_5star_movies_test)\n",
    "    users_5star_movies_test = [item for item in x]\n",
    "    adjacency_matrix_test[user_id-1][users_5star_movies_test] = 1"
   ]
  },
  {
   "cell_type": "markdown",
   "metadata": {
    "id": "K5V9dREAFULn"
   },
   "source": [
    "Same as before"
   ]
  },
  {
   "cell_type": "code",
   "execution_count": 8,
   "metadata": {
    "id": "qmRzMwXn2b8b"
   },
   "outputs": [],
   "source": [
    "def recall150 (adj_mat, model): # pass in true adj_mat, will compare with predicted here\n",
    "    with torch.no_grad():\n",
    "        user_mat = model.embedding.weight[:n_users, :]\n",
    "        movie_mat = model.embedding.weight[n_users:, :]\n",
    "        scores = torch.matmul(user_mat, movie_mat.T).to(device)\n",
    "\n",
    "        for i in range(scores.shape[0]):\n",
    "          split_val = torch.quantile(scores[i], 1-(150/n_movies))\n",
    "          mask0 = torch.where(scores[i] < split_val)[0]\n",
    "          mask1 = torch.where(scores[i] >= split_val)[0]\n",
    "          scores[i][mask0] = 0\n",
    "          scores[i][mask1] = 1 \n",
    "          \n",
    "        #compare\n",
    "        avg = 0\n",
    "        valid = 0\n",
    "        for i in range(scores.shape[0]):\n",
    "          a1 = torch.where(adj_mat[i] == 1)[0]\n",
    "          a2 = torch.where(scores[i] == 1)[0]\n",
    "          # print(a1)\n",
    "          # print(a2)\n",
    "          a1=a1.cpu().detach().numpy()\n",
    "          a2=a2.cpu().detach().numpy()\n",
    "          x = len(np.intersect1d(a1, a2))\n",
    "          y = len(torch.where(adj_mat[i] == 1)[0])       \n",
    "          # print(f\"x: {x}\")\n",
    "          # print(f\"y: {y}\")\n",
    "          if y != 0:                           \n",
    "            avg += x/y\n",
    "            valid += 1\n",
    "        avg = avg/valid\n",
    "        return avg"
   ]
  },
  {
   "cell_type": "markdown",
   "metadata": {
    "id": "oZPOLOwpFVqo"
   },
   "source": [
    "Same as before"
   ]
  },
  {
   "cell_type": "code",
   "execution_count": 9,
   "metadata": {
    "id": "Vy0T6WfH2cOX"
   },
   "outputs": [],
   "source": [
    "# Compute degree probabilities\n",
    "# we must use train set\n",
    "user_to_movie = adjacency_matrix_train.clone()\n",
    "movie_to_user = adjacency_matrix_train.T\n",
    "degrees = []\n",
    "for user_idx in range(user_to_movie.shape[0]):\n",
    "  degrees.append(len(torch.where(user_to_movie[user_idx] == 1)[0]))\n",
    "for movie_idx in range(movie_to_user.shape[0]):\n",
    "  degrees.append(len(torch.where(movie_to_user[movie_idx]==1)[0]))"
   ]
  },
  {
   "cell_type": "markdown",
   "metadata": {
    "id": "VjYv7sz2FXDC"
   },
   "source": [
    "Same as before"
   ]
  },
  {
   "cell_type": "code",
   "execution_count": 10,
   "metadata": {
    "id": "1YmHVYQ06JyR"
   },
   "outputs": [],
   "source": [
    "num_nodes = n_users+n_movies\n",
    "adj_mat = torch.zeros(num_nodes, num_nodes)\n",
    "for user_idx in range(n_users):\n",
    "  adj_mat[user_idx][torch.where(user_to_movie[user_idx] == 1)[0] + n_users] = 1\n",
    "for movie_idx in range(n_movies):\n",
    "  adj_mat[n_users+movie_idx][torch.where(movie_to_user[movie_idx]==1)[0]] = 1"
   ]
  },
  {
   "cell_type": "markdown",
   "metadata": {
    "id": "zzCChHsvFYPI"
   },
   "source": [
    "Same as before"
   ]
  },
  {
   "cell_type": "code",
   "execution_count": null,
   "metadata": {
    "id": "Mh6UKtew6J8J"
   },
   "outputs": [],
   "source": [
    "def compute_transition_probs(q):\n",
    "  transition_prob = torch.zeros(num_nodes, num_nodes)\n",
    "  for node_idx in range(num_nodes):\n",
    "    # print(node_idx)\n",
    "    transition_prob[node_idx] = torch.tensor([0]*num_nodes, dtype=torch.float64).to(device)\n",
    "    valid_nodes = torch.where(adj_mat[node_idx] == 1)[0]\n",
    "    transition_prob[node_idx][valid_nodes] = 1/q\n",
    "  return transition_prob"
   ]
  },
  {
   "cell_type": "markdown",
   "metadata": {
    "id": "I7nHrDxyFZ9K"
   },
   "source": [
    "Same as before"
   ]
  },
  {
   "cell_type": "code",
   "execution_count": null,
   "metadata": {
    "id": "XQXoBH756KF5"
   },
   "outputs": [],
   "source": [
    "def next_node(previous, current, transition_probs, p):\n",
    "  node_indices = list(range(num_nodes))\n",
    "  node_probs = transition_probs[current].clone()\n",
    "  if previous != -1:\n",
    "    node_probs[previous] = 1/p\n",
    "  chosen_user = random.choices(node_indices, weights=node_probs, k=1)\n",
    "  return chosen_user[0]"
   ]
  },
  {
   "cell_type": "markdown",
   "metadata": {
    "id": "sFiMvsw6Fa9F"
   },
   "source": [
    "Mostly the same, except don't include start node as part of walk path"
   ]
  },
  {
   "cell_type": "code",
   "execution_count": null,
   "metadata": {
    "id": "ELJmibvs6KNf"
   },
   "outputs": [],
   "source": [
    "import random\n",
    "def random_walk(start_node, num_steps, transition_probs, p):\n",
    "  walk = [start_node]\n",
    "  while len(walk) < num_steps:\n",
    "    current = walk[-1]\n",
    "    previous = walk[-2] if len(walk) > 1 else -1\n",
    "    next = next_node(previous, current, transition_probs, p)\n",
    "    walk.append(next)\n",
    "  return walk[1:]"
   ]
  },
  {
   "cell_type": "markdown",
   "metadata": {
    "id": "y07nJz4eFb-c"
   },
   "source": [
    "Performm the optimizer.step() after each random walk. Essentially, use each random walk as a batch in training, as recommended by the prof. To help with time, iterate only over users. For each user, upweight dot product with good node embeddings by 200 and negatively sample K from the negative sample set. We want to optimize the same cost function as in part 1, so set loss to negative of objective."
   ]
  },
  {
   "cell_type": "code",
   "execution_count": null,
   "metadata": {
    "id": "ZhUPx8pJdC_j"
   },
   "outputs": [],
   "source": [
    "def train_loop(model, optimizer, num_steps, K, p, transition_probs):\n",
    "  # rand_sample = random.sample(list(range(n_users)), 100)\n",
    "  for user_idx in range(n_users):\n",
    "    loss=0\n",
    "\n",
    "    user_embed = model(torch.tensor(user_idx).to(device)).to(device)\n",
    "\n",
    "    rand_walk = random_walk(user_idx, num_steps, transition_probs, p)\n",
    "\n",
    "    rows_in_walk = torch.tensor(rand_walk).to(device)\n",
    "    unique_rows_in_walk = torch.unique(rows_in_walk).to(device)\n",
    "    \n",
    "    rows = torch.arange(num_nodes).to(device)\n",
    "    mask = torch.zeros_like(rows).to(device)\n",
    "    mask[unique_rows_in_walk] = 1\n",
    "    rows_notinwalk = rows[mask!=1]\n",
    "    probs = torch.tensor(degrees)[mask!=1]\n",
    "\n",
    "    path_node_embeds = model(rows_in_walk)\n",
    "    path_scores = torch.matmul(user_embed, path_node_embeds.T)\n",
    "    loss += 200*torch.sum(torch.nn.functional.logsigmoid(path_scores))\n",
    "\n",
    "    neg_samples = random.choices(rows_notinwalk.tolist(), weights=probs.tolist(), k=K)\n",
    "    neg_samples = torch.tensor(neg_samples).to(device)\n",
    "    neg_embeds = model(neg_samples)\n",
    "    bad_dps = torch.matmul(user_embed, neg_embeds.T).to(device)\n",
    "    bad_logsigs = torch.nn.functional.logsigmoid(bad_dps).to(device)\n",
    "    loss -= torch.sum(bad_logsigs)\n",
    "    loss *= -1\n",
    "    optimizer.zero_grad()\n",
    "    loss.backward()\n",
    "    optimizer.step()"
   ]
  },
  {
   "cell_type": "markdown",
   "metadata": {
    "id": "GvRhAqitGRim"
   },
   "source": [
    "Same as before"
   ]
  },
  {
   "cell_type": "code",
   "execution_count": null,
   "metadata": {
    "colab": {
     "base_uri": "https://localhost:8080/"
    },
    "id": "CItQa6IvfRXE",
    "outputId": "d5bdc9c1-b5c5-4c59-99be-21de6f24e5b7"
   },
   "outputs": [
    {
     "name": "stdout",
     "output_type": "stream",
     "text": [
      "Model structure: EmbeddingLayer(\n",
      "  (embedding): Embedding(10334, 10)\n",
      ")\n",
      "\n",
      "Layer: embedding.weight | Size: torch.Size([10334, 10]) | Values : tensor([[ 0.1018, -0.8347,  0.8218, -0.9378, -0.8945,  0.0339, -0.2602, -0.2440,\n",
      "          0.3041,  0.0248],\n",
      "        [-0.7408, -0.5972, -0.1294, -0.1780, -0.1342, -0.8037,  0.9305,  0.8798,\n",
      "         -0.0501,  0.4738]], device='cuda:0', grad_fn=<SliceBackward0>) \n",
      "\n"
     ]
    }
   ],
   "source": [
    "class EmbeddingLayer(nn.Module):\n",
    "    def __init__(self):\n",
    "        super(EmbeddingLayer, self).__init__()\n",
    "        self.embedding = nn.Embedding(n, d)\n",
    "        self.embedding.weight.data.uniform_(-1, 1)\n",
    "\n",
    "    def forward(self, x):\n",
    "        x = self.embedding(x)\n",
    "        return x\n",
    "\n",
    "model = EmbeddingLayer().to(device)\n",
    "print(f\"Model structure: {model}\\n\")\n",
    "\n",
    "for name, param in model.named_parameters():\n",
    "    print(f\"Layer: {name} | Size: {param.size()} | Values : {param[:2]} \\n\")"
   ]
  },
  {
   "cell_type": "markdown",
   "metadata": {
    "id": "a7LRLLQKGWNl"
   },
   "source": [
    "### Before doing a full grid search to determine best hyperparameters, lets demonstrate this gives better results for a specific hyperparameter setting"
   ]
  },
  {
   "cell_type": "code",
   "execution_count": null,
   "metadata": {
    "colab": {
     "base_uri": "https://localhost:8080/"
    },
    "id": "R8TN9NVGe5lm",
    "outputId": "88b735cc-ca53-42d6-f027-fdb322329dd6"
   },
   "outputs": [
    {
     "name": "stdout",
     "output_type": "stream",
     "text": [
      "Epoch 1\n",
      "-------------------------------\n",
      "Train Recall150:\n",
      "0.13217596109235916\n",
      "Validation Recall150:\n",
      "0.02418306927054637\n",
      "Epoch 2\n",
      "-------------------------------\n",
      "Train Recall150:\n",
      "0.26705664145118146\n",
      "Validation Recall150:\n",
      "0.055660989510014997\n",
      "Epoch 3\n",
      "-------------------------------\n",
      "Train Recall150:\n",
      "0.4330598391574411\n",
      "Validation Recall150:\n",
      "0.1587160823973081\n",
      "Epoch 4\n",
      "-------------------------------\n",
      "Train Recall150:\n",
      "0.5274406412784799\n",
      "Validation Recall150:\n",
      "0.22118816893836357\n",
      "Epoch 5\n",
      "-------------------------------\n",
      "Train Recall150:\n",
      "0.5732999966070091\n",
      "Validation Recall150:\n",
      "0.2525534027623959\n",
      "Epoch 6\n",
      "-------------------------------\n",
      "Train Recall150:\n",
      "0.5958534670066281\n",
      "Validation Recall150:\n",
      "0.2619393224829402\n",
      "Epoch 7\n",
      "-------------------------------\n",
      "Train Recall150:\n",
      "0.6101239153220269\n",
      "Validation Recall150:\n",
      "0.2725535568208503\n",
      "Epoch 8\n",
      "-------------------------------\n",
      "Train Recall150:\n",
      "0.6233384709479405\n",
      "Validation Recall150:\n",
      "0.28144317887680903\n",
      "Epoch 9\n",
      "-------------------------------\n",
      "Train Recall150:\n",
      "0.6251185207490274\n",
      "Validation Recall150:\n",
      "0.28737151354353907\n",
      "Epoch 10\n",
      "-------------------------------\n",
      "Train Recall150:\n",
      "0.6330651118608495\n",
      "Validation Recall150:\n",
      "0.2894525162766161\n",
      "Epoch 11\n",
      "-------------------------------\n",
      "Train Recall150:\n",
      "0.63582868496281\n",
      "Validation Recall150:\n",
      "0.2939308687341476\n",
      "Epoch 12\n",
      "-------------------------------\n",
      "Train Recall150:\n",
      "0.6340998941832924\n",
      "Validation Recall150:\n",
      "0.29777896954866534\n",
      "Epoch 13\n",
      "-------------------------------\n",
      "Train Recall150:\n",
      "0.6373975611264768\n",
      "Validation Recall150:\n",
      "0.30365873889611594\n",
      "Epoch 14\n",
      "-------------------------------\n",
      "Train Recall150:\n",
      "0.6438510192531431\n",
      "Validation Recall150:\n",
      "0.30423519291744267\n",
      "Epoch 15\n",
      "-------------------------------\n",
      "Train Recall150:\n",
      "0.6373347850063045\n",
      "Validation Recall150:\n",
      "0.30778366835700965\n",
      "Epoch 16\n",
      "-------------------------------\n",
      "Train Recall150:\n",
      "0.6406571685474264\n",
      "Validation Recall150:\n",
      "0.3103355302607603\n",
      "Epoch 17\n",
      "-------------------------------\n",
      "Train Recall150:\n",
      "0.6425048051915162\n",
      "Validation Recall150:\n",
      "0.31829480612781025\n",
      "Epoch 18\n",
      "-------------------------------\n",
      "Train Recall150:\n",
      "0.6376738770606455\n",
      "Validation Recall150:\n",
      "0.3197480902850693\n",
      "Epoch 19\n",
      "-------------------------------\n",
      "Train Recall150:\n",
      "0.6346759179259891\n",
      "Validation Recall150:\n",
      "0.3238782988520763\n",
      "Epoch 20\n",
      "-------------------------------\n",
      "Train Recall150:\n",
      "0.6285540290845306\n",
      "Validation Recall150:\n",
      "0.3279614730360493\n",
      "Done!\n"
     ]
    }
   ],
   "source": [
    "model1 = EmbeddingLayer().to(device)\n",
    "\n",
    "learning_rate = 1e-3\n",
    "optimizer = torch.optim.SGD(model1.parameters(), lr=learning_rate) \n",
    "K = 100\n",
    "p = 1\n",
    "q = 5\n",
    "num_steps = 20\n",
    "transition_probs = compute_transition_probs(q)\n",
    "\n",
    "epochs = 20\n",
    "for t in range(epochs):\n",
    "    print(f\"Epoch {t+1}\\n-------------------------------\")\n",
    "    train_loop(model1, optimizer, num_steps, K, p, transition_probs)\n",
    "    print(f\"Train Recall150:\\n{recall150(adjacency_matrix_train, model1)}\")\n",
    "    print(f\"Validation Recall150:\\n{recall150(adjacency_matrix_val, model1)}\")\n",
    "print(\"Done!\")"
   ]
  },
  {
   "cell_type": "markdown",
   "metadata": {
    "id": "nLb30l3t-8Ef"
   },
   "source": [
    "This works much better, with validation accuracy of approximately 28% at epoch = 10, instead of approximately 10% as we had in Training approach 1. This is expected because this new training approach is similar to training procedure in part 1 of the mini project, which gave similar scores(but better) on validation set since we directly learn embeddings instead of using random walks\n",
    "\n",
    "(Note again here random walks that prefer BFS with length = 20 is closer towards directly learning, since we are more likely to just extract all of a start nodes neighbours in such a walk)"
   ]
  },
  {
   "cell_type": "markdown",
   "metadata": {
    "id": "hvizDalC_XwU"
   },
   "source": [
    "## Hyperparameter Tuning\n",
    "We use grid search, with realistic p, q, K and num_walk values since these take a long time to run. Realistic here means values we ahve worked with in part 1, and when setting (p,q) since the important consideration is the ratio between them, making sure not to perform useless computations like testing p,q = 1,1 and 2,2, since these should theretically give same results. Furthermore, we know we want to do more BFS than DFS, so lets not try somthing like p,q = 5,1 or even 3,1, so that we dont waste computation to realize it performs poorly when we could have guessed it.\n",
    "\n",
    "We will list all models out explicitly so that when our GPU usage terminates, we know where to pick up from\n",
    "\n",
    "- (p,q) = (1,1), (1,2), (1,3), (1,4), (1,5), (2,1), (2,3), (3,4)\n",
    "- num_walks = \\[10, 20\\]\n",
    "- K = \\[100, 200\\]"
   ]
  },
  {
   "cell_type": "code",
   "execution_count": null,
   "metadata": {
    "id": "XcBw3KPd18Ia"
   },
   "outputs": [],
   "source": [
    "models = []\n",
    "pqs = [(1,1), (1,2), (1,3), (1,4), (1,5), (2,1), (2,3), (3,4)]\n",
    "walk_length = [10, 20]\n",
    "Ks = [100, 200]"
   ]
  },
  {
   "cell_type": "markdown",
   "metadata": {
    "id": "NZqtorq2Eg3A"
   },
   "source": [
    "### This will take very long time to run."
   ]
  },
  {
   "cell_type": "code",
   "execution_count": null,
   "metadata": {
    "colab": {
     "base_uri": "https://localhost:8080/"
    },
    "id": "Hgt_fZxp18Yw",
    "outputId": "a55b2b6e-44b5-4c6e-f050-93ce79044238"
   },
   "outputs": [
    {
     "name": "stdout",
     "output_type": "stream",
     "text": [
      "p = 1, q = 1, random walk length = 10, K = 100\n",
      "Train Recall150:\n",
      "0.6029852759174307\n",
      "Validation Recall150:\n",
      "0.28293956446099844\n",
      "\n",
      "\n",
      "p = 1, q = 1, random walk length = 10, K = 200\n",
      "Train Recall150:\n",
      "0.582344533989359\n",
      "Validation Recall150:\n",
      "0.25674889731591377\n",
      "\n",
      "\n",
      "p = 1, q = 1, random walk length = 20, K = 100\n",
      "Train Recall150:\n",
      "0.5923029135343069\n",
      "Validation Recall150:\n",
      "0.34947648328170533\n",
      "\n",
      "\n",
      "p = 1, q = 1, random walk length = 20, K = 200\n",
      "Train Recall150:\n",
      "0.573443355514836\n",
      "Validation Recall150:\n",
      "0.3472896769883333\n",
      "\n",
      "\n",
      "p = 1, q = 2, random walk length = 10, K = 100\n",
      "Train Recall150:\n",
      "0.6133295031913851\n",
      "Validation Recall150:\n",
      "0.2746546957267453\n",
      "\n",
      "\n",
      "p = 1, q = 2, random walk length = 10, K = 200\n",
      "Train Recall150:\n",
      "0.5967981437857783\n",
      "Validation Recall150:\n",
      "0.2714026606147532\n",
      "\n",
      "\n",
      "p = 1, q = 2, random walk length = 20, K = 100\n"
     ]
    }
   ],
   "source": [
    "for pq in pqs:\n",
    "  for walk_len in walk_length:\n",
    "    for K in Ks:\n",
    "      print(f'p = {pq[0]}, q = {pq[1]}, random walk length = {walk_len}, K = {K}')\n",
    "      models.append(EmbeddingLayer().to(device))\n",
    "      learning_rate = 1e-3\n",
    "      optimizer = torch.optim.SGD(models[-1].parameters(), lr=learning_rate) \n",
    "      p = pq[0]\n",
    "      q = pq[1]\n",
    "      transition_probs = compute_transition_probs(q)\n",
    "\n",
    "      epochs = 10\n",
    "      for t in range(epochs):\n",
    "          train_loop(models[-1], optimizer, walk_len, K, p, transition_probs)\n",
    "      print(f\"Train Recall150:\\n{recall150(adjacency_matrix_train, models[-1])}\")\n",
    "      print(f\"Validation Recall150:\\n{recall150(adjacency_matrix_val, models[-1])}\")\n",
    "      print(\"\\n\")"
   ]
  },
  {
   "cell_type": "code",
   "execution_count": null,
   "metadata": {
    "colab": {
     "base_uri": "https://localhost:8080/"
    },
    "id": "suu9fOJ_ynMe",
    "outputId": "8ec9af3f-3095-4da0-ed59-5a16b22faafc"
   },
   "outputs": [
    {
     "name": "stdout",
     "output_type": "stream",
     "text": [
      "p = 1, q = 2, random walk length = 20, K = 100\n",
      "Train Recall150:\n",
      "0.6190279024446358\n",
      "Validation Recall150:\n",
      "0.33847941518976943\n",
      "\n",
      "\n",
      "p = 1, q = 3, random walk length = 20, K = 100\n",
      "Train Recall150:\n",
      "0.6284660624483009\n",
      "Validation Recall150:\n",
      "0.34146124733526406\n",
      "\n",
      "\n",
      "p = 1, q = 4, random walk length = 20, K = 100\n",
      "Train Recall150:\n",
      "0.6333618345739782\n",
      "Validation Recall150:\n",
      "0.3124393212548879\n",
      "\n",
      "\n",
      "p = 1, q = 5, random walk length = 20, K = 100\n"
     ]
    }
   ],
   "source": [
    "# From above observe:\n",
    "# walk length = 20 better than walk length of 10\n",
    "# K = 100 vs K=200 doesn't really matter but K=100 slightly better\n",
    "models = []\n",
    "pqs = [(1,1), (1,2), (1,3), (1,4), (1,5), (2,1), (2,3), (3,4)]\n",
    "walk_len = 20\n",
    "K = 100\n",
    "\n",
    "for pq in pqs[1:]:\n",
    "  print(f'p = {pq[0]}, q = {pq[1]}, random walk length = {walk_len}, K = {K}')\n",
    "  models.append(EmbeddingLayer().to(device))\n",
    "  learning_rate = 1e-3\n",
    "  optimizer = torch.optim.SGD(models[-1].parameters(), lr=learning_rate) \n",
    "  p = pq[0]\n",
    "  q = pq[1]\n",
    "  transition_probs = compute_transition_probs(q)\n",
    "\n",
    "  epochs = 10\n",
    "  for t in range(epochs):\n",
    "      train_loop(models[-1], optimizer, walk_len, K, p, transition_probs)\n",
    "  print(f\"Train Recall150:\\n{recall150(adjacency_matrix_train, models[-1])}\")\n",
    "  print(f\"Validation Recall150:\\n{recall150(adjacency_matrix_val, models[-1])}\")\n",
    "  print(\"\\n\")"
   ]
  },
  {
   "cell_type": "code",
   "execution_count": null,
   "metadata": {
    "colab": {
     "base_uri": "https://localhost:8080/"
    },
    "id": "V9mRSdpbycQz",
    "outputId": "33fac818-3464-4958-ae40-929cf86d8ece"
   },
   "outputs": [
    {
     "name": "stdout",
     "output_type": "stream",
     "text": [
      "p = 1, q = 5, random walk length = 20, K = 100\n",
      "Train Recall150:\n",
      "0.6272568708134437\n",
      "Validation Recall150:\n",
      "0.33533926435024847\n",
      "\n",
      "\n",
      "p = 2, q = 1, random walk length = 20, K = 100\n",
      "Train Recall150:\n",
      "0.5869295537782582\n",
      "Validation Recall150:\n",
      "0.3409530686685333\n",
      "\n",
      "\n",
      "p = 2, q = 3, random walk length = 20, K = 100\n"
     ]
    }
   ],
   "source": [
    "# From above observe:\n",
    "# walk length = 20 better than walk length of 10\n",
    "# K = 100 vs K=200 doesn't really matter but K=100 slightly better\n",
    "models = []\n",
    "pqs = [(1,5), (2,1), (2,3), (3,4)]\n",
    "walk_len = 20\n",
    "K = 100\n",
    "\n",
    "for pq in pqs:\n",
    "  print(f'p = {pq[0]}, q = {pq[1]}, random walk length = {walk_len}, K = {K}')\n",
    "  models.append(EmbeddingLayer().to(device))\n",
    "  learning_rate = 1e-3\n",
    "  optimizer = torch.optim.SGD(models[-1].parameters(), lr=learning_rate) \n",
    "  p = pq[0]\n",
    "  q = pq[1]\n",
    "  transition_probs = compute_transition_probs(q)\n",
    "\n",
    "  epochs = 10\n",
    "  for t in range(epochs):\n",
    "      train_loop(models[-1], optimizer, walk_len, K, p, transition_probs)\n",
    "  print(f\"Train Recall150:\\n{recall150(adjacency_matrix_train, models[-1])}\")\n",
    "  print(f\"Validation Recall150:\\n{recall150(adjacency_matrix_val, models[-1])}\")\n",
    "  print(\"\\n\")"
   ]
  },
  {
   "cell_type": "code",
   "execution_count": null,
   "metadata": {
    "colab": {
     "base_uri": "https://localhost:8080/"
    },
    "id": "BBeORv75ydpP",
    "outputId": "9ba6356d-fe22-41ea-b03c-ee41864644a1"
   },
   "outputs": [
    {
     "name": "stdout",
     "output_type": "stream",
     "text": [
      "p = 2, q = 3, random walk length = 20, K = 100\n",
      "Train Recall150:\n",
      "0.5955865939540852\n",
      "Validation Recall150:\n",
      "0.35492070078831495\n",
      "\n",
      "\n",
      "p = 3, q = 4, random walk length = 20, K = 100\n"
     ]
    }
   ],
   "source": [
    "models = []\n",
    "pqs = [(2,3), (3,4)]\n",
    "walk_len = 20\n",
    "K = 100\n",
    "\n",
    "for pq in pqs:\n",
    "  print(f'p = {pq[0]}, q = {pq[1]}, random walk length = {walk_len}, K = {K}')\n",
    "  models.append(EmbeddingLayer().to(device))\n",
    "  learning_rate = 1e-3\n",
    "  optimizer = torch.optim.SGD(models[-1].parameters(), lr=learning_rate) \n",
    "  p = pq[0]\n",
    "  q = pq[1]\n",
    "  transition_probs = compute_transition_probs(q)\n",
    "\n",
    "  epochs = 10\n",
    "  for t in range(epochs):\n",
    "      train_loop(models[-1], optimizer, walk_len, K, p, transition_probs)\n",
    "  print(f\"Train Recall150:\\n{recall150(adjacency_matrix_train, models[-1])}\")\n",
    "  print(f\"Validation Recall150:\\n{recall150(adjacency_matrix_val, models[-1])}\")\n",
    "  print(\"\\n\")"
   ]
  },
  {
   "cell_type": "markdown",
   "metadata": {
    "id": "dtvYpfbEdv7C"
   },
   "source": [
    "### We have yet to try (p,q) = (3,4) but this ratio lies between the others tried. Further, since the other ones all give around the same validation accuracy, we can just skip this since it will likely give same validation accuracy of around 34% and will take a long time to run."
   ]
  },
  {
   "cell_type": "code",
   "execution_count": 36,
   "metadata": {
    "colab": {
     "base_uri": "https://localhost:8080/"
    },
    "id": "4EvaQADk-p-U",
    "outputId": "fb10ccb1-955d-4e77-95c6-ad94730ceb78"
   },
   "outputs": [
    {
     "name": "stdout",
     "output_type": "stream",
     "text": [
      "Test Recall150:\n",
      "0.30356437823149856\n"
     ]
    }
   ],
   "source": [
    "print(f\"Test Recall150:\\n{recall150(adjacency_matrix_test, models[-1])}\")"
   ]
  },
  {
   "cell_type": "markdown",
   "metadata": {
    "id": "1mhFrF7Z-MYI"
   },
   "source": [
    "# We are done"
   ]
  },
  {
   "cell_type": "markdown",
   "metadata": {
    "id": "m2VBXjle-PP4"
   },
   "source": [
    "The main conclusion for this part is that using training approach 1, we get accuracy of about 10%, while training approach gives an accuracy of about 30%. In training approach one, we use precomputed walks, specifically we only store one walk and use it all the time. Furthermore, we use all nodes in training. \n",
    "\n",
    "In training approach 2, we use some improvements that makes the strategy similar to part 1. Specifically, we use a new walk each time,, and we only iterate over the users. This gives much better results, perhaps due to the simplicity in learning over 610 users rather that 610 + num_movies nodes. The node2vec paper uses precompute weights and all nodes, so strictly speaking we present our final accuracy as about 10% (model 8 on test set). However, the improvement is worthy of mentioning and experimenting with"
   ]
  },
  {
   "cell_type": "code",
   "execution_count": null,
   "metadata": {
    "id": "5Jq94P-2ytB1"
   },
   "outputs": [],
   "source": []
  },
  {
   "cell_type": "code",
   "execution_count": null,
   "metadata": {
    "id": "ziV4PIn-R6di"
   },
   "outputs": [],
   "source": []
  }
 ],
 "metadata": {
  "accelerator": "GPU",
  "colab": {
   "collapsed_sections": [],
   "name": "Final Part 1",
   "provenance": []
  },
  "kernelspec": {
   "display_name": "Python 3",
   "language": "python",
   "name": "python3"
  },
  "language_info": {
   "codemirror_mode": {
    "name": "ipython",
    "version": 3
   },
   "file_extension": ".py",
   "mimetype": "text/x-python",
   "name": "python",
   "nbconvert_exporter": "python",
   "pygments_lexer": "ipython3",
   "version": "3.8.5"
  }
 },
 "nbformat": 4,
 "nbformat_minor": 0
}
